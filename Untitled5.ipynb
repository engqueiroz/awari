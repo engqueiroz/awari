{
 "cells": [
  {
   "cell_type": "code",
   "execution_count": 1,
   "id": "93c9f126",
   "metadata": {},
   "outputs": [
    {
     "data": {
      "text/plain": [
       "Counter({'red': 4,\n",
       "         'green': 4,\n",
       "         'black': 5,\n",
       "         'pink': 6,\n",
       "         'white': 5,\n",
       "         'eyes': 1,\n",
       "         'orange': 4})"
      ]
     },
     "execution_count": 1,
     "metadata": {},
     "output_type": "execute_result"
    }
   ],
   "source": [
    "#Escreva um programa em Python para contabilizar a quantidade de ocorrências de cada palavra.\n",
    "\n",
    "palavras = [\n",
    "   'red', 'green', 'black', 'pink', 'black', 'white', 'black', 'eyes',\n",
    "   'white', 'black', 'orange', 'pink', 'pink', 'red', 'red', 'white', 'orange',\n",
    "   'white', \"black\", 'pink', 'green', 'green', 'pink', 'green', 'pink',\n",
    "   'white', 'orange', \"orange\", 'red'\n",
    "]\n",
    "\n",
    "from collections import Counter\n",
    "Counter(palavras)"
   ]
  },
  {
   "cell_type": "code",
   "execution_count": 4,
   "id": "35b82a9a",
   "metadata": {},
   "outputs": [],
   "source": [
    "#Escreva uma função que recebe um número inteiro de horas e a converte em segundos.\n",
    "#Exemplo: convert(5) ➞ 18000\n",
    "#convert(3) ➞ 10800\n",
    "#convert(2) ➞ 7200\n",
    "\n",
    "def convert_to_sec(number):\n",
    "    number2 = number * 3600\n",
    "    print(number2)"
   ]
  },
  {
   "cell_type": "code",
   "execution_count": 5,
   "id": "a2a96974",
   "metadata": {},
   "outputs": [
    {
     "data": {
      "text/plain": [
       "[1, 2, 3, 4, 5, 6, 9, 13, 15, 30, 45]"
      ]
     },
     "execution_count": 5,
     "metadata": {},
     "output_type": "execute_result"
    }
   ],
   "source": [
    "#Escreva uma função que receba uma lista e retorne uma nova lista ordenada e sem valores duplicados.\n",
    "\n",
    "lista = [1,2,3,4,3,30,3,4,5,6,9,3,2,1,2,4,5,15,6,6,3,13,4,45,5]\n",
    "\n",
    "def remove_repetidos(lista):\n",
    "    l = []\n",
    "    for i in lista:\n",
    "        if i not in l:\n",
    "            l.append(i)\n",
    "    l.sort()\n",
    "    lista.sort()\n",
    "    return l\n",
    "\n",
    "remove_repetidos(lista)"
   ]
  },
  {
   "cell_type": "code",
   "execution_count": 6,
   "id": "8644bc0f",
   "metadata": {},
   "outputs": [
    {
     "data": {
      "text/plain": [
       "'lagel é nohtyP'"
      ]
     },
     "execution_count": 6,
     "metadata": {},
     "output_type": "execute_result"
    }
   ],
   "source": [
    "#Escreva uma função que receba uma string como parâmetro e retorne outra string com as palavras em ordem inversa.\n",
    "#Exemplo: inverte_texto(\"Python é legal\") ➞ \"legal é Python\"\n",
    "\n",
    "from collections import deque\n",
    "def inverter(text):\n",
    "    d = deque()\n",
    "    d.extendleft(text)\n",
    "    return ''.join(d)\n",
    "\n",
    "inverter(\"Python é legal\")"
   ]
  },
  {
   "cell_type": "code",
   "execution_count": 7,
   "id": "dec697f0",
   "metadata": {},
   "outputs": [
    {
     "data": {
      "text/plain": [
       "['(255) 826-9050',\n",
       " '(285) 608-2448',\n",
       " '(311) 799-3883',\n",
       " '(410) 665-4447',\n",
       " '(464) 788-2397',\n",
       " '(511) 821-7870',\n",
       " '(554) 994-1517',\n",
       " '(596) 336-5508',\n",
       " '(650) 684-1437',\n",
       " '(765) 368-1506',\n",
       " '(812) 816-0881',\n",
       " '(821) 642-8987',\n",
       " '(885) 407-1719',\n",
       " '(935) 875-2054',\n",
       " '(943) 769-1061']"
      ]
     },
     "execution_count": 7,
     "metadata": {},
     "output_type": "execute_result"
    }
   ],
   "source": [
    "#Você trabalha em uma loja de sapatos e deve contatar uma lista de clientes dada pela seguinte lista de números de telefones:\n",
    "\n",
    "numeros_telefone = [\n",
    "'(765) 368-1506',\n",
    "'(285) 608-2448',\n",
    "'(255) 826-9050',\n",
    "'(554) 994-1517',\n",
    "'(285) 608-2448',\n",
    "'(596) 336-5508',\n",
    "'(511) 821-7870',\n",
    "'(410) 665-4447',\n",
    "'(821) 642-8987',\n",
    "'(285) 608-2448',\n",
    "'(311) 799-3883',\n",
    "'(935) 875-2054',\n",
    "'(464) 788-2397',\n",
    "'(765) 368-1506',\n",
    "'(650) 684-1437',\n",
    "'(812) 816-0881',\n",
    "'(285) 608-2448',\n",
    "'(885) 407-1719',\n",
    "'(943) 769-1061',\n",
    "'(596) 336-5508',\n",
    "'(765) 368-1506',\n",
    "'(255) 826-9050',\n",
    "]\n",
    "\n",
    "def remove_repetidos(lista):\n",
    "    l = []\n",
    "    for i in lista:\n",
    "        if i not in l:\n",
    "            l.append(i)\n",
    "    l.sort()\n",
    "    lista.sort()\n",
    "    return l\n",
    "\n",
    "remove_repetidos(numeros_telefone)"
   ]
  },
  {
   "cell_type": "code",
   "execution_count": 10,
   "id": "836cea93",
   "metadata": {},
   "outputs": [
    {
     "name": "stdout",
     "output_type": "stream",
     "text": [
      "[1, 1, 2, 3, 5, 8, 13]\n"
     ]
    }
   ],
   "source": [
    "#Crie uma função que receba duas listas e \n",
    "#retorne uma lista que contenha apenas os elementos comuns entre as listas (sem repetição). \n",
    "#A função deve suportar lista de tamanhos diferentes.\n",
    "\n",
    "a = [1, 1, 2, 3, 5, 8, 13, 21, 34, 55, 89]\n",
    "b = [1, 2, 3, 4, 5, 6, 7, 8, 9, 10, 11, 12, 13]\n",
    "\n",
    "igual = []\n",
    "for num in a:\n",
    "    if num in b:\n",
    "        igual.append(num)\n",
    "        \n",
    "print(igual)"
   ]
  },
  {
   "cell_type": "code",
   "execution_count": 11,
   "id": "283f8a5c",
   "metadata": {},
   "outputs": [
    {
     "name": "stdout",
     "output_type": "stream",
     "text": [
      "['(873) 810-8267', '(300) 303-5462', '(941) 225-3869', '(294) 430-7720', '(835) 955-1498', '(897) 932-2512', '(640) 427-2597', '(856) 338-7094', '(641) 367-5279', '(964) 710-9625', '(403) 343-7705', '(797) 649-3653', '(757) 450-9985', '(491) 666-5367']\n"
     ]
    }
   ],
   "source": [
    "#Um professor de universidade tem uma turma com os seguintes números de telefones:\n",
    "\n",
    "telefones_alunos = ['(873) 810-8267', '(633) 244-7325', '(300) 303-5462', \n",
    "                    '(938) 300-8890', '(429) 264-7427', '(737) 805-2326', \n",
    "                    '(768) 956-8497', '(941) 225-3869', '(203) 606-9463', \n",
    "                    '(294) 430-7720', '(896) 781-5087', '(397) 845-8267', \n",
    "                    '(788) 717-6858', '(419) 734-4188', '(682) 595-3278', \n",
    "                    '(835) 955-1498', '(296) 415-9944', '(897) 932-2512', \n",
    "                    '(263) 415-3893', '(822) 640-8496', '(640) 427-2597', \n",
    "                    '(856) 338-7094', '(807) 554-4076', '(641) 367-5279', \n",
    "                    '(828) 866-0696', '(727) 376-5749', '(921) 948-2244', \n",
    "                    '(964) 710-9625', '(596) 685-1242', '(403) 343-7705', \n",
    "                    '(227) 389-3685', '(264) 372-7298', '(797) 649-3653', \n",
    "                    '(374) 361-3844', '(618) 490-4228', '(987) 803-5550', \n",
    "                    '(228) 976-9699', '(757) 450-9985', '(491) 666-5367',\n",
    "                    ]\n",
    "\n",
    "#Ele criou um grupo do whatapp no entanto somente os seguintes números entraram:\n",
    "\n",
    "entraram_no_grupo = ['(596) 685-1242', '(727) 376-5749', '(987) 803-5550', \n",
    "                     '(633) 244-7325', '(828) 866-0696', '(263) 415-3893', \n",
    "                     '(203) 606-9463', '(296) 415-9944', '(419) 734-4188', \n",
    "                     '(618) 490-4228', '(682) 595-3278', '(938) 300-8890', \n",
    "                     '(264) 372-7298', '(768) 956-8497', '(737) 805-2326', \n",
    "                     '(788) 717-6858', '(228) 976-9699', '(896) 781-5087',\n",
    "                     '(374) 361-3844', '(921) 948-2244', '(807) 554-4076', \n",
    "                     '(822) 640-8496', '(227) 389-3685', '(429) 264-7427', \n",
    "                     '(397) 845-8267']\n",
    "\n",
    "#Você seria capaz de criar uma lista dos alunos que ainda não entraram no grupo para que sejam contatados individualmente?\n",
    "\n",
    "faltando = []\n",
    "for aluno in telefones_alunos:\n",
    "    if aluno not in entraram_no_grupo:\n",
    "        faltando.append(aluno)\n",
    "        \n",
    "print(faltando)"
   ]
  },
  {
   "cell_type": "code",
   "execution_count": 15,
   "id": "64daddb8",
   "metadata": {},
   "outputs": [
    {
     "ename": "FileNotFoundError",
     "evalue": "[Errno 2] No such file or directory: 'texto.txt'",
     "output_type": "error",
     "traceback": [
      "\u001b[1;31m---------------------------------------------------------------------------\u001b[0m",
      "\u001b[1;31mFileNotFoundError\u001b[0m                         Traceback (most recent call last)",
      "\u001b[1;32m<ipython-input-15-93d87cea9f88>\u001b[0m in \u001b[0;36m<module>\u001b[1;34m\u001b[0m\n\u001b[0;32m      9\u001b[0m     \u001b[0mprint\u001b[0m\u001b[1;33m(\u001b[0m\u001b[0mlista_ordenada\u001b[0m\u001b[1;33m[\u001b[0m\u001b[1;36m0\u001b[0m\u001b[1;33m:\u001b[0m\u001b[1;36m10\u001b[0m\u001b[1;33m]\u001b[0m\u001b[1;33m)\u001b[0m\u001b[1;33m\u001b[0m\u001b[1;33m\u001b[0m\u001b[0m\n\u001b[0;32m     10\u001b[0m \u001b[1;33m\u001b[0m\u001b[0m\n\u001b[1;32m---> 11\u001b[1;33m \u001b[0mtop10\u001b[0m\u001b[1;33m(\u001b[0m\u001b[1;34m'texto.txt'\u001b[0m\u001b[1;33m)\u001b[0m\u001b[1;33m\u001b[0m\u001b[1;33m\u001b[0m\u001b[0m\n\u001b[0m",
      "\u001b[1;32m<ipython-input-15-93d87cea9f88>\u001b[0m in \u001b[0;36mtop10\u001b[1;34m(arquivo)\u001b[0m\n\u001b[0;32m      3\u001b[0m \u001b[1;33m\u001b[0m\u001b[0m\n\u001b[0;32m      4\u001b[0m \u001b[1;32mdef\u001b[0m \u001b[0mtop10\u001b[0m\u001b[1;33m(\u001b[0m\u001b[0marquivo\u001b[0m\u001b[1;33m)\u001b[0m\u001b[1;33m:\u001b[0m\u001b[1;33m\u001b[0m\u001b[1;33m\u001b[0m\u001b[0m\n\u001b[1;32m----> 5\u001b[1;33m     \u001b[0mdf\u001b[0m \u001b[1;33m=\u001b[0m \u001b[0mopen\u001b[0m\u001b[1;33m(\u001b[0m\u001b[0marquivo\u001b[0m\u001b[1;33m,\u001b[0m \u001b[1;34m'r'\u001b[0m\u001b[1;33m)\u001b[0m\u001b[1;33m\u001b[0m\u001b[1;33m\u001b[0m\u001b[0m\n\u001b[0m\u001b[0;32m      6\u001b[0m     \u001b[0mdf_split\u001b[0m \u001b[1;33m=\u001b[0m \u001b[0mdf\u001b[0m\u001b[1;33m.\u001b[0m\u001b[0mread\u001b[0m\u001b[1;33m(\u001b[0m\u001b[1;33m)\u001b[0m\u001b[1;33m.\u001b[0m\u001b[0msplit\u001b[0m\u001b[1;33m(\u001b[0m\u001b[1;33m)\u001b[0m\u001b[1;33m\u001b[0m\u001b[1;33m\u001b[0m\u001b[0m\n\u001b[0;32m      7\u001b[0m     \u001b[0mlista_ordenada\u001b[0m \u001b[1;33m=\u001b[0m \u001b[0msorted\u001b[0m\u001b[1;33m(\u001b[0m\u001b[0mdf_split\u001b[0m\u001b[1;33m,\u001b[0m \u001b[0mkey\u001b[0m\u001b[1;33m=\u001b[0m\u001b[0mlen\u001b[0m\u001b[1;33m)\u001b[0m\u001b[1;33m\u001b[0m\u001b[1;33m\u001b[0m\u001b[0m\n",
      "\u001b[1;31mFileNotFoundError\u001b[0m: [Errno 2] No such file or directory: 'texto.txt'"
     ]
    }
   ],
   "source": [
    "#Escreva um script Python para encontrar as 10 palavras mais longas em um arquivo.\n",
    "#O arquivo TXT está localizado na mesma pasta do projeto (texto.txt).\n",
    "\n",
    "def top10(arquivo):\n",
    "    df = open(arquivo, 'r')\n",
    "    df_split = df.read().split()\n",
    "    lista_ordenada = sorted(df_split, key=len)\n",
    "    lista_ordenada.reverse()\n",
    "    print(lista_ordenada[0:10])\n",
    "    \n",
    "top10('texto.txt')"
   ]
  },
  {
   "cell_type": "code",
   "execution_count": 14,
   "id": "dd857d6e",
   "metadata": {},
   "outputs": [
    {
     "name": "stdout",
     "output_type": "stream",
     "text": [
      "78\n"
     ]
    }
   ],
   "source": [
    "#Escreva uma função que retorne a soma dos múltiplos de 3 e 5 entre 0 e um número limite (parâmetro). \n",
    "#Por exemplo, se o limite for 20, ele retornará a soma de 3, 5, 6, 9, 10, 12, 15, 18, 20.\n",
    "\n",
    "def multiplos(n):\n",
    "    multiplos = []\n",
    "    for i in range(n):\n",
    "        if((i%3==0)or(i%5==0)):\n",
    "            multiplos.append(i)\n",
    "    print(sum(multiplos))\n",
    "    \n",
    "\n",
    "multiplos(20)"
   ]
  },
  {
   "cell_type": "code",
   "execution_count": 16,
   "id": "bc2963b1",
   "metadata": {},
   "outputs": [
    {
     "data": {
      "text/plain": [
       "[[10, 20, 30], [40, 50, 60], [70, 80, 90]]"
      ]
     },
     "execution_count": 16,
     "metadata": {},
     "output_type": "execute_result"
    }
   ],
   "source": [
    "#Dada uma lista, divida-a em 3 partes iguais e reverta cada lista.\n",
    "\n",
    "#Exemplo: sampleList = [11, 45, 8, 23, 14, 12, 78, 45, 89]\n",
    "#Parte 1 [8, 45, 11]\n",
    "#Parte 2 [12, 14, 23]\n",
    "#Parte 3 [89, 45, 78]\n",
    "\n",
    "lista = [10,20,30,40,50,60,70,80,90]\n",
    "dados = [lista[0:3], lista[3:6], lista[6:]]\n",
    "                                       \n",
    "dados"
   ]
  },
  {
   "cell_type": "code",
   "execution_count": null,
   "id": "521cb967",
   "metadata": {},
   "outputs": [],
   "source": []
  }
 ],
 "metadata": {
  "kernelspec": {
   "display_name": "Python 3",
   "language": "python",
   "name": "python3"
  },
  "language_info": {
   "codemirror_mode": {
    "name": "ipython",
    "version": 3
   },
   "file_extension": ".py",
   "mimetype": "text/x-python",
   "name": "python",
   "nbconvert_exporter": "python",
   "pygments_lexer": "ipython3",
   "version": "3.8.8"
  }
 },
 "nbformat": 4,
 "nbformat_minor": 5
}
