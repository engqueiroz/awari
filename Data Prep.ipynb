{
 "cells": [
  {
   "cell_type": "markdown",
   "metadata": {},
   "source": [
    "# Bibliotecas"
   ]
  },
  {
   "cell_type": "code",
   "execution_count": 42,
   "metadata": {},
   "outputs": [],
   "source": [
    "import pandas as pd\n",
    "import numpy as np"
   ]
  },
  {
   "cell_type": "markdown",
   "metadata": {},
   "source": [
    "# Base"
   ]
  },
  {
   "cell_type": "code",
   "execution_count": 3,
   "metadata": {},
   "outputs": [],
   "source": [
    "base = pd.read_csv(\"class-grades.csv\")"
   ]
  },
  {
   "cell_type": "code",
   "execution_count": 4,
   "metadata": {},
   "outputs": [
    {
     "data": {
      "text/html": [
       "<div>\n",
       "<style scoped>\n",
       "    .dataframe tbody tr th:only-of-type {\n",
       "        vertical-align: middle;\n",
       "    }\n",
       "\n",
       "    .dataframe tbody tr th {\n",
       "        vertical-align: top;\n",
       "    }\n",
       "\n",
       "    .dataframe thead th {\n",
       "        text-align: right;\n",
       "    }\n",
       "</style>\n",
       "<table border=\"1\" class=\"dataframe\">\n",
       "  <thead>\n",
       "    <tr style=\"text-align: right;\">\n",
       "      <th></th>\n",
       "      <th>Prefix</th>\n",
       "      <th>Assignment</th>\n",
       "      <th>Tutorial</th>\n",
       "      <th>Midterm</th>\n",
       "      <th>TakeHome</th>\n",
       "      <th>Final</th>\n",
       "      <th>Class</th>\n",
       "      <th>Final_Int</th>\n",
       "      <th>ID</th>\n",
       "      <th>BD</th>\n",
       "    </tr>\n",
       "  </thead>\n",
       "  <tbody>\n",
       "    <tr>\n",
       "      <th>0</th>\n",
       "      <td>5</td>\n",
       "      <td>57.14</td>\n",
       "      <td>NaN</td>\n",
       "      <td>64.38</td>\n",
       "      <td>51.48</td>\n",
       "      <td>52.50</td>\n",
       "      <td>Python</td>\n",
       "      <td>0.5250</td>\n",
       "      <td>0</td>\n",
       "      <td>1994-05-07</td>\n",
       "    </tr>\n",
       "    <tr>\n",
       "      <th>1</th>\n",
       "      <td>8</td>\n",
       "      <td>95.05</td>\n",
       "      <td>NaN</td>\n",
       "      <td>67.50</td>\n",
       "      <td>99.07</td>\n",
       "      <td>68.33</td>\n",
       "      <td>R</td>\n",
       "      <td>0.6833</td>\n",
       "      <td>1</td>\n",
       "      <td>1994-07-09</td>\n",
       "    </tr>\n",
       "    <tr>\n",
       "      <th>2</th>\n",
       "      <td>8</td>\n",
       "      <td>83.70</td>\n",
       "      <td>NaN</td>\n",
       "      <td>30.00</td>\n",
       "      <td>63.15</td>\n",
       "      <td>48.89</td>\n",
       "      <td>SQL</td>\n",
       "      <td>0.4889</td>\n",
       "      <td>2</td>\n",
       "      <td>1992-02-12</td>\n",
       "    </tr>\n",
       "    <tr>\n",
       "      <th>3</th>\n",
       "      <td>7</td>\n",
       "      <td>81.22</td>\n",
       "      <td>NaN</td>\n",
       "      <td>49.38</td>\n",
       "      <td>105.93</td>\n",
       "      <td>80.56</td>\n",
       "      <td>R</td>\n",
       "      <td>0.8056</td>\n",
       "      <td>3</td>\n",
       "      <td>1995-05-24</td>\n",
       "    </tr>\n",
       "    <tr>\n",
       "      <th>4</th>\n",
       "      <td>8</td>\n",
       "      <td>91.32</td>\n",
       "      <td>93.64</td>\n",
       "      <td>NaN</td>\n",
       "      <td>107.41</td>\n",
       "      <td>73.89</td>\n",
       "      <td>SQL</td>\n",
       "      <td>0.7389</td>\n",
       "      <td>4</td>\n",
       "      <td>1994-05-18</td>\n",
       "    </tr>\n",
       "  </tbody>\n",
       "</table>\n",
       "</div>"
      ],
      "text/plain": [
       "   Prefix  Assignment  Tutorial  Midterm  TakeHome  Final   Class  Final_Int  \\\n",
       "0       5       57.14       NaN    64.38     51.48  52.50  Python     0.5250   \n",
       "1       8       95.05       NaN    67.50     99.07  68.33       R     0.6833   \n",
       "2       8       83.70       NaN    30.00     63.15  48.89     SQL     0.4889   \n",
       "3       7       81.22       NaN    49.38    105.93  80.56       R     0.8056   \n",
       "4       8       91.32     93.64      NaN    107.41  73.89     SQL     0.7389   \n",
       "\n",
       "   ID          BD  \n",
       "0   0  1994-05-07  \n",
       "1   1  1994-07-09  \n",
       "2   2  1992-02-12  \n",
       "3   3  1995-05-24  \n",
       "4   4  1994-05-18  "
      ]
     },
     "execution_count": 4,
     "metadata": {},
     "output_type": "execute_result"
    }
   ],
   "source": [
    "base.head()"
   ]
  },
  {
   "cell_type": "code",
   "execution_count": 5,
   "metadata": {},
   "outputs": [
    {
     "name": "stdout",
     "output_type": "stream",
     "text": [
      "<class 'pandas.core.frame.DataFrame'>\n",
      "RangeIndex: 119 entries, 0 to 118\n",
      "Data columns (total 10 columns):\n",
      " #   Column      Non-Null Count  Dtype  \n",
      "---  ------      --------------  -----  \n",
      " 0   Prefix      119 non-null    int64  \n",
      " 1   Assignment  119 non-null    float64\n",
      " 2   Tutorial    37 non-null     float64\n",
      " 3   Midterm     108 non-null    float64\n",
      " 4   TakeHome    105 non-null    float64\n",
      " 5   Final       105 non-null    float64\n",
      " 6   Class       107 non-null    object \n",
      " 7   Final_Int   105 non-null    float64\n",
      " 8   ID          119 non-null    int64  \n",
      " 9   BD          119 non-null    object \n",
      "dtypes: float64(6), int64(2), object(2)\n",
      "memory usage: 9.4+ KB\n"
     ]
    }
   ],
   "source": [
    "base.info()"
   ]
  },
  {
   "cell_type": "markdown",
   "metadata": {},
   "source": [
    "# Biblioteca Missingno"
   ]
  },
  {
   "cell_type": "code",
   "execution_count": 5,
   "metadata": {
    "collapsed": true
   },
   "outputs": [
    {
     "name": "stdout",
     "output_type": "stream",
     "text": [
      "Requirement already satisfied: missingno in c:\\users\\jarvis\\appdata\\roaming\\python\\python37\\site-packages (0.5.0)\n",
      "Requirement already satisfied: seaborn in c:\\users\\jarvis\\appdata\\roaming\\python\\python37\\site-packages (from missingno) (0.11.2)\n",
      "Requirement already satisfied: matplotlib in c:\\users\\jarvis\\anaconda3\\lib\\site-packages (from missingno) (3.4.3)\n",
      "Requirement already satisfied: scipy in c:\\users\\jarvis\\anaconda3\\lib\\site-packages (from missingno) (1.4.1)\n",
      "Requirement already satisfied: numpy in c:\\users\\jarvis\\anaconda3\\lib\\site-packages (from missingno) (1.19.5)\n",
      "Requirement already satisfied: pandas>=0.23 in c:\\users\\jarvis\\anaconda3\\lib\\site-packages (from seaborn->missingno) (1.3.3)\n",
      "Requirement already satisfied: kiwisolver>=1.0.1 in c:\\users\\jarvis\\anaconda3\\lib\\site-packages (from matplotlib->missingno) (1.1.0)\n",
      "Requirement already satisfied: python-dateutil>=2.7 in c:\\users\\jarvis\\anaconda3\\lib\\site-packages (from matplotlib->missingno) (2.8.1)\n",
      "Requirement already satisfied: pillow>=6.2.0 in c:\\users\\jarvis\\anaconda3\\lib\\site-packages (from matplotlib->missingno) (7.0.0)\n",
      "Requirement already satisfied: cycler>=0.10 in c:\\users\\jarvis\\anaconda3\\lib\\site-packages (from matplotlib->missingno) (0.10.0)\n",
      "Requirement already satisfied: pyparsing>=2.2.1 in c:\\users\\jarvis\\anaconda3\\lib\\site-packages (from matplotlib->missingno) (2.4.6)\n",
      "Requirement already satisfied: pytz>=2017.3 in c:\\users\\jarvis\\anaconda3\\lib\\site-packages (from pandas>=0.23->seaborn->missingno) (2019.3)\n",
      "Requirement already satisfied: setuptools in c:\\users\\jarvis\\anaconda3\\lib\\site-packages (from kiwisolver>=1.0.1->matplotlib->missingno) (45.2.0.post20200210)\n",
      "Requirement already satisfied: six>=1.5 in c:\\users\\jarvis\\anaconda3\\lib\\site-packages (from python-dateutil>=2.7->matplotlib->missingno) (1.15.0)\n"
     ]
    }
   ],
   "source": [
    "#!pip install missingno"
   ]
  },
  {
   "cell_type": "code",
   "execution_count": 6,
   "metadata": {},
   "outputs": [],
   "source": [
    "import missingno as msno"
   ]
  },
  {
   "cell_type": "code",
   "execution_count": 7,
   "metadata": {},
   "outputs": [],
   "source": [
    "## Matrix"
   ]
  },
  {
   "cell_type": "code",
   "execution_count": 8,
   "metadata": {},
   "outputs": [
    {
     "data": {
      "text/plain": [
       "<AxesSubplot:>"
      ]
     },
     "execution_count": 8,
     "metadata": {},
     "output_type": "execute_result"
    },
    {
     "data": {
      "image/png": "[encoded data removed]",
      "text/plain": [
       "<Figure size 1800x720 with 2 Axes>"
      ]
     },
     "metadata": {
      "needs_background": "light"
     },
     "output_type": "display_data"
    }
   ],
   "source": [
    "msno.matrix(base)"
   ]
  },
  {
   "cell_type": "code",
   "execution_count": 9,
   "metadata": {},
   "outputs": [
    {
     "data": {
      "text/plain": [
       "<AxesSubplot:>"
      ]
     },
     "execution_count": 9,
     "metadata": {},
     "output_type": "execute_result"
    },
    {
     "data": {
      "image/png": "[encoded data removed]",
      "text/plain": [
       "<Figure size 1800x720 with 3 Axes>"
      ]
     },
     "metadata": {
      "needs_background": "light"
     },
     "output_type": "display_data"
    }
   ],
   "source": [
    "msno.bar(base)"
   ]
  },
  {
   "cell_type": "code",
   "execution_count": 10,
   "metadata": {},
   "outputs": [
    {
     "data": {
      "text/plain": [
       "<AxesSubplot:>"
      ]
     },
     "execution_count": 10,
     "metadata": {},
     "output_type": "execute_result"
    },
    {
     "data": {
      "image/png": "[encoded data removed]",
      "text/plain": [
       "<Figure size 1440x864 with 2 Axes>"
      ]
     },
     "metadata": {
      "needs_background": "light"
     },
     "output_type": "display_data"
    }
   ],
   "source": [
    "msno.heatmap(base)"
   ]
  },
  {
   "cell_type": "code",
   "execution_count": 11,
   "metadata": {},
   "outputs": [
    {
     "data": {
      "text/plain": [
       "<AxesSubplot:>"
      ]
     },
     "execution_count": 11,
     "metadata": {},
     "output_type": "execute_result"
    },
    {
     "data": {
      "image/png": "[encoded data removed]",
      "text/plain": [
       "<Figure size 1800x720 with 1 Axes>"
      ]
     },
     "metadata": {
      "needs_background": "light"
     },
     "output_type": "display_data"
    }
   ],
   "source": [
    "msno.dendrogram(base)"
   ]
  },
  {
   "cell_type": "markdown",
   "metadata": {},
   "source": [
    "# Tratamento de dados redundantes"
   ]
  },
  {
   "cell_type": "markdown",
   "metadata": {},
   "source": [
    "## Colunas"
   ]
  },
  {
   "cell_type": "code",
   "execution_count": 12,
   "metadata": {},
   "outputs": [],
   "source": [
    "import seaborn as sns"
   ]
  },
  {
   "cell_type": "code",
   "execution_count": 13,
   "metadata": {},
   "outputs": [
    {
     "data": {
      "text/plain": [
       "<seaborn.axisgrid.FacetGrid at 0x2ceb0cc3c48>"
      ]
     },
     "execution_count": 13,
     "metadata": {},
     "output_type": "execute_result"
    },
    {
     "data": {
      "image/png": "[encoded data removed]",
      "text/plain": [
       "<Figure size 360x360 with 1 Axes>"
      ]
     },
     "metadata": {
      "needs_background": "light"
     },
     "output_type": "display_data"
    }
   ],
   "source": [
    "sns.lmplot(data=base,x='Final',y='Final_Int')"
   ]
  },
  {
   "cell_type": "code",
   "execution_count": 14,
   "metadata": {},
   "outputs": [],
   "source": [
    "base.drop(columns=['Final_Int'],inplace=True)"
   ]
  },
  {
   "cell_type": "markdown",
   "metadata": {},
   "source": [
    "## Redundantes em linhas"
   ]
  },
  {
   "cell_type": "code",
   "execution_count": 15,
   "metadata": {},
   "outputs": [
    {
     "data": {
      "text/html": [
       "<div>\n",
       "<style scoped>\n",
       "    .dataframe tbody tr th:only-of-type {\n",
       "        vertical-align: middle;\n",
       "    }\n",
       "\n",
       "    .dataframe tbody tr th {\n",
       "        vertical-align: top;\n",
       "    }\n",
       "\n",
       "    .dataframe thead th {\n",
       "        text-align: right;\n",
       "    }\n",
       "</style>\n",
       "<table border=\"1\" class=\"dataframe\">\n",
       "  <thead>\n",
       "    <tr style=\"text-align: right;\">\n",
       "      <th></th>\n",
       "      <th>Prefix</th>\n",
       "      <th>Assignment</th>\n",
       "      <th>Tutorial</th>\n",
       "      <th>Midterm</th>\n",
       "      <th>TakeHome</th>\n",
       "      <th>Final</th>\n",
       "      <th>Class</th>\n",
       "      <th>ID</th>\n",
       "      <th>BD</th>\n",
       "    </tr>\n",
       "  </thead>\n",
       "  <tbody>\n",
       "    <tr>\n",
       "      <th>0</th>\n",
       "      <td>5</td>\n",
       "      <td>57.14</td>\n",
       "      <td>NaN</td>\n",
       "      <td>64.38</td>\n",
       "      <td>51.48</td>\n",
       "      <td>52.50</td>\n",
       "      <td>Python</td>\n",
       "      <td>0</td>\n",
       "      <td>1994-05-07</td>\n",
       "    </tr>\n",
       "    <tr>\n",
       "      <th>1</th>\n",
       "      <td>8</td>\n",
       "      <td>95.05</td>\n",
       "      <td>NaN</td>\n",
       "      <td>67.50</td>\n",
       "      <td>99.07</td>\n",
       "      <td>68.33</td>\n",
       "      <td>R</td>\n",
       "      <td>1</td>\n",
       "      <td>1994-07-09</td>\n",
       "    </tr>\n",
       "    <tr>\n",
       "      <th>2</th>\n",
       "      <td>8</td>\n",
       "      <td>83.70</td>\n",
       "      <td>NaN</td>\n",
       "      <td>30.00</td>\n",
       "      <td>63.15</td>\n",
       "      <td>48.89</td>\n",
       "      <td>SQL</td>\n",
       "      <td>2</td>\n",
       "      <td>1992-02-12</td>\n",
       "    </tr>\n",
       "    <tr>\n",
       "      <th>3</th>\n",
       "      <td>7</td>\n",
       "      <td>81.22</td>\n",
       "      <td>NaN</td>\n",
       "      <td>49.38</td>\n",
       "      <td>105.93</td>\n",
       "      <td>80.56</td>\n",
       "      <td>R</td>\n",
       "      <td>3</td>\n",
       "      <td>1995-05-24</td>\n",
       "    </tr>\n",
       "    <tr>\n",
       "      <th>4</th>\n",
       "      <td>8</td>\n",
       "      <td>91.32</td>\n",
       "      <td>93.64</td>\n",
       "      <td>NaN</td>\n",
       "      <td>107.41</td>\n",
       "      <td>73.89</td>\n",
       "      <td>SQL</td>\n",
       "      <td>4</td>\n",
       "      <td>1994-05-18</td>\n",
       "    </tr>\n",
       "  </tbody>\n",
       "</table>\n",
       "</div>"
      ],
      "text/plain": [
       "   Prefix  Assignment  Tutorial  Midterm  TakeHome  Final   Class  ID  \\\n",
       "0       5       57.14       NaN    64.38     51.48  52.50  Python   0   \n",
       "1       8       95.05       NaN    67.50     99.07  68.33       R   1   \n",
       "2       8       83.70       NaN    30.00     63.15  48.89     SQL   2   \n",
       "3       7       81.22       NaN    49.38    105.93  80.56       R   3   \n",
       "4       8       91.32     93.64      NaN    107.41  73.89     SQL   4   \n",
       "\n",
       "           BD  \n",
       "0  1994-05-07  \n",
       "1  1994-07-09  \n",
       "2  1992-02-12  \n",
       "3  1995-05-24  \n",
       "4  1994-05-18  "
      ]
     },
     "execution_count": 15,
     "metadata": {},
     "output_type": "execute_result"
    }
   ],
   "source": [
    "base.head()"
   ]
  },
  {
   "cell_type": "code",
   "execution_count": 16,
   "metadata": {},
   "outputs": [
    {
     "data": {
      "text/plain": [
       "99"
      ]
     },
     "execution_count": 16,
     "metadata": {},
     "output_type": "execute_result"
    }
   ],
   "source": [
    "base.ID.nunique() # base['ID'].nunique() "
   ]
  },
  {
   "cell_type": "code",
   "execution_count": 17,
   "metadata": {},
   "outputs": [
    {
     "data": {
      "text/plain": [
       "(119, 9)"
      ]
     },
     "execution_count": 17,
     "metadata": {},
     "output_type": "execute_result"
    }
   ],
   "source": [
    "base.shape"
   ]
  },
  {
   "cell_type": "code",
   "execution_count": 18,
   "metadata": {},
   "outputs": [],
   "source": [
    "base.drop_duplicates(subset=['ID'],inplace=True)"
   ]
  },
  {
   "cell_type": "code",
   "execution_count": 19,
   "metadata": {},
   "outputs": [
    {
     "data": {
      "text/plain": [
       "(99, 9)"
      ]
     },
     "execution_count": 19,
     "metadata": {},
     "output_type": "execute_result"
    }
   ],
   "source": [
    "base.shape"
   ]
  },
  {
   "cell_type": "markdown",
   "metadata": {},
   "source": [
    "# Tratamento dos dados faltantes"
   ]
  },
  {
   "cell_type": "markdown",
   "metadata": {},
   "source": [
    "## Eliminar a coluna inteira"
   ]
  },
  {
   "cell_type": "code",
   "execution_count": 20,
   "metadata": {},
   "outputs": [],
   "source": [
    "base.drop(columns=['Tutorial'],inplace=True)"
   ]
  },
  {
   "cell_type": "markdown",
   "metadata": {},
   "source": [
    "## Preenchimento com valores"
   ]
  },
  {
   "cell_type": "code",
   "execution_count": 25,
   "metadata": {},
   "outputs": [
    {
     "data": {
      "text/html": [
       "<div>\n",
       "<style scoped>\n",
       "    .dataframe tbody tr th:only-of-type {\n",
       "        vertical-align: middle;\n",
       "    }\n",
       "\n",
       "    .dataframe tbody tr th {\n",
       "        vertical-align: top;\n",
       "    }\n",
       "\n",
       "    .dataframe thead tr th {\n",
       "        text-align: left;\n",
       "    }\n",
       "\n",
       "    .dataframe thead tr:last-of-type th {\n",
       "        text-align: right;\n",
       "    }\n",
       "</style>\n",
       "<table border=\"1\" class=\"dataframe\">\n",
       "  <thead>\n",
       "    <tr>\n",
       "      <th></th>\n",
       "      <th>Prefix</th>\n",
       "      <th>Assignment</th>\n",
       "      <th>Midterm</th>\n",
       "      <th>TakeHome</th>\n",
       "      <th>Final</th>\n",
       "      <th>ID</th>\n",
       "    </tr>\n",
       "    <tr>\n",
       "      <th></th>\n",
       "      <th>median</th>\n",
       "      <th>median</th>\n",
       "      <th>median</th>\n",
       "      <th>median</th>\n",
       "      <th>median</th>\n",
       "      <th>median</th>\n",
       "    </tr>\n",
       "    <tr>\n",
       "      <th>Class</th>\n",
       "      <th></th>\n",
       "      <th></th>\n",
       "      <th></th>\n",
       "      <th></th>\n",
       "      <th></th>\n",
       "      <th></th>\n",
       "    </tr>\n",
       "  </thead>\n",
       "  <tbody>\n",
       "    <tr>\n",
       "      <th>Python</th>\n",
       "      <td>7.0</td>\n",
       "      <td>84.530</td>\n",
       "      <td>63.75</td>\n",
       "      <td>75.37</td>\n",
       "      <td>58.330</td>\n",
       "      <td>58.5</td>\n",
       "    </tr>\n",
       "    <tr>\n",
       "      <th>R</th>\n",
       "      <td>8.0</td>\n",
       "      <td>90.020</td>\n",
       "      <td>70.94</td>\n",
       "      <td>90.74</td>\n",
       "      <td>64.025</td>\n",
       "      <td>42.5</td>\n",
       "    </tr>\n",
       "    <tr>\n",
       "      <th>SQL</th>\n",
       "      <td>8.0</td>\n",
       "      <td>87.725</td>\n",
       "      <td>69.69</td>\n",
       "      <td>87.59</td>\n",
       "      <td>72.220</td>\n",
       "      <td>37.0</td>\n",
       "    </tr>\n",
       "  </tbody>\n",
       "</table>\n",
       "</div>"
      ],
      "text/plain": [
       "       Prefix Assignment Midterm TakeHome   Final     ID\n",
       "       median     median  median   median  median median\n",
       "Class                                                   \n",
       "Python    7.0     84.530   63.75    75.37  58.330   58.5\n",
       "R         8.0     90.020   70.94    90.74  64.025   42.5\n",
       "SQL       8.0     87.725   69.69    87.59  72.220   37.0"
      ]
     },
     "execution_count": 25,
     "metadata": {},
     "output_type": "execute_result"
    }
   ],
   "source": [
    "base.groupby('Class').agg({'median'})"
   ]
  },
  {
   "cell_type": "markdown",
   "metadata": {},
   "source": [
    "### Preenchimento de valor baseado em conhecimento de negócio"
   ]
  },
  {
   "cell_type": "code",
   "execution_count": 27,
   "metadata": {},
   "outputs": [],
   "source": [
    "#Midterm\n",
    "base['Midterm'].fillna(0.0,inplace=True)"
   ]
  },
  {
   "cell_type": "code",
   "execution_count": 29,
   "metadata": {},
   "outputs": [
    {
     "data": {
      "text/html": [
       "<div>\n",
       "<style scoped>\n",
       "    .dataframe tbody tr th:only-of-type {\n",
       "        vertical-align: middle;\n",
       "    }\n",
       "\n",
       "    .dataframe tbody tr th {\n",
       "        vertical-align: top;\n",
       "    }\n",
       "\n",
       "    .dataframe thead th {\n",
       "        text-align: right;\n",
       "    }\n",
       "</style>\n",
       "<table border=\"1\" class=\"dataframe\">\n",
       "  <thead>\n",
       "    <tr style=\"text-align: right;\">\n",
       "      <th></th>\n",
       "      <th>Prefix</th>\n",
       "      <th>Assignment</th>\n",
       "      <th>Midterm</th>\n",
       "      <th>TakeHome</th>\n",
       "      <th>Final</th>\n",
       "      <th>Class</th>\n",
       "      <th>ID</th>\n",
       "      <th>BD</th>\n",
       "    </tr>\n",
       "  </thead>\n",
       "  <tbody>\n",
       "    <tr>\n",
       "      <th>4</th>\n",
       "      <td>8</td>\n",
       "      <td>91.32</td>\n",
       "      <td>0.0</td>\n",
       "      <td>107.41</td>\n",
       "      <td>73.89</td>\n",
       "      <td>SQL</td>\n",
       "      <td>4</td>\n",
       "      <td>1994-05-18</td>\n",
       "    </tr>\n",
       "    <tr>\n",
       "      <th>10</th>\n",
       "      <td>7</td>\n",
       "      <td>80.44</td>\n",
       "      <td>0.0</td>\n",
       "      <td>91.48</td>\n",
       "      <td>39.72</td>\n",
       "      <td>R</td>\n",
       "      <td>10</td>\n",
       "      <td>1998-04-28</td>\n",
       "    </tr>\n",
       "    <tr>\n",
       "      <th>12</th>\n",
       "      <td>8</td>\n",
       "      <td>97.16</td>\n",
       "      <td>0.0</td>\n",
       "      <td>93.52</td>\n",
       "      <td>63.33</td>\n",
       "      <td>R</td>\n",
       "      <td>12</td>\n",
       "      <td>1991-05-31</td>\n",
       "    </tr>\n",
       "    <tr>\n",
       "      <th>15</th>\n",
       "      <td>7</td>\n",
       "      <td>93.83</td>\n",
       "      <td>0.0</td>\n",
       "      <td>80.93</td>\n",
       "      <td>NaN</td>\n",
       "      <td>R</td>\n",
       "      <td>15</td>\n",
       "      <td>1992-05-24</td>\n",
       "    </tr>\n",
       "    <tr>\n",
       "      <th>20</th>\n",
       "      <td>8</td>\n",
       "      <td>63.40</td>\n",
       "      <td>0.0</td>\n",
       "      <td>72.78</td>\n",
       "      <td>NaN</td>\n",
       "      <td>SQL</td>\n",
       "      <td>20</td>\n",
       "      <td>1990-07-13</td>\n",
       "    </tr>\n",
       "    <tr>\n",
       "      <th>30</th>\n",
       "      <td>7</td>\n",
       "      <td>98.58</td>\n",
       "      <td>0.0</td>\n",
       "      <td>97.59</td>\n",
       "      <td>63.33</td>\n",
       "      <td>Python</td>\n",
       "      <td>30</td>\n",
       "      <td>1994-10-15</td>\n",
       "    </tr>\n",
       "    <tr>\n",
       "      <th>51</th>\n",
       "      <td>8</td>\n",
       "      <td>83.70</td>\n",
       "      <td>0.0</td>\n",
       "      <td>NaN</td>\n",
       "      <td>57.78</td>\n",
       "      <td>R</td>\n",
       "      <td>51</td>\n",
       "      <td>1990-05-04</td>\n",
       "    </tr>\n",
       "    <tr>\n",
       "      <th>84</th>\n",
       "      <td>6</td>\n",
       "      <td>95.60</td>\n",
       "      <td>0.0</td>\n",
       "      <td>99.81</td>\n",
       "      <td>42.78</td>\n",
       "      <td>Python</td>\n",
       "      <td>84</td>\n",
       "      <td>1993-06-21</td>\n",
       "    </tr>\n",
       "    <tr>\n",
       "      <th>90</th>\n",
       "      <td>8</td>\n",
       "      <td>97.33</td>\n",
       "      <td>0.0</td>\n",
       "      <td>108.89</td>\n",
       "      <td>71.11</td>\n",
       "      <td>R</td>\n",
       "      <td>90</td>\n",
       "      <td>1996-01-26</td>\n",
       "    </tr>\n",
       "    <tr>\n",
       "      <th>94</th>\n",
       "      <td>8</td>\n",
       "      <td>96.73</td>\n",
       "      <td>0.0</td>\n",
       "      <td>93.52</td>\n",
       "      <td>61.94</td>\n",
       "      <td>R</td>\n",
       "      <td>94</td>\n",
       "      <td>1992-08-06</td>\n",
       "    </tr>\n",
       "  </tbody>\n",
       "</table>\n",
       "</div>"
      ],
      "text/plain": [
       "    Prefix  Assignment  Midterm  TakeHome  Final   Class  ID          BD\n",
       "4        8       91.32      0.0    107.41  73.89     SQL   4  1994-05-18\n",
       "10       7       80.44      0.0     91.48  39.72       R  10  1998-04-28\n",
       "12       8       97.16      0.0     93.52  63.33       R  12  1991-05-31\n",
       "15       7       93.83      0.0     80.93    NaN       R  15  1992-05-24\n",
       "20       8       63.40      0.0     72.78    NaN     SQL  20  1990-07-13\n",
       "30       7       98.58      0.0     97.59  63.33  Python  30  1994-10-15\n",
       "51       8       83.70      0.0       NaN  57.78       R  51  1990-05-04\n",
       "84       6       95.60      0.0     99.81  42.78  Python  84  1993-06-21\n",
       "90       8       97.33      0.0    108.89  71.11       R  90  1996-01-26\n",
       "94       8       96.73      0.0     93.52  61.94       R  94  1992-08-06"
      ]
     },
     "execution_count": 29,
     "metadata": {},
     "output_type": "execute_result"
    }
   ],
   "source": [
    "base[base['Midterm']==0.0]"
   ]
  },
  {
   "cell_type": "markdown",
   "metadata": {},
   "source": [
    "### Preenchimento com estimativas de localização"
   ]
  },
  {
   "cell_type": "code",
   "execution_count": 32,
   "metadata": {},
   "outputs": [
    {
     "data": {
      "text/plain": [
       "71.42321428571428"
      ]
     },
     "execution_count": 32,
     "metadata": {},
     "output_type": "execute_result"
    }
   ],
   "source": [
    "base[base['Class']=='Python']['TakeHome'].mean()"
   ]
  },
  {
   "cell_type": "code",
   "execution_count": 34,
   "metadata": {},
   "outputs": [],
   "source": [
    "#calculo das medias Takehome\n",
    "media_python = base[base['Class']=='Python']['TakeHome'].mean()\n",
    "media_r = base[base['Class']=='R']['TakeHome'].mean()\n",
    "media_sql = base[base['Class']=='SQL']['TakeHome'].mean()"
   ]
  },
  {
   "cell_type": "code",
   "execution_count": 58,
   "metadata": {},
   "outputs": [
    {
     "data": {
      "text/plain": [
       "79.6798949579832"
      ]
     },
     "execution_count": 58,
     "metadata": {},
     "output_type": "execute_result"
    }
   ],
   "source": [
    "np.mean([media_python, media_r, media_sql])"
   ]
  },
  {
   "cell_type": "code",
   "execution_count": 36,
   "metadata": {},
   "outputs": [],
   "source": [
    "#seleçao por classe"
   ]
  },
  {
   "cell_type": "code",
   "execution_count": 72,
   "metadata": {},
   "outputs": [],
   "source": [
    "#inline\n",
    "base.loc[(base['Class']=='Python')&(base['TakeHome'].isna()),'TakeHome'] = media_python"
   ]
  },
  {
   "cell_type": "code",
   "execution_count": 73,
   "metadata": {},
   "outputs": [],
   "source": [
    "#Versão Jason\n",
    "Teste_A = base['Class']=='R'"
   ]
  },
  {
   "cell_type": "code",
   "execution_count": 74,
   "metadata": {},
   "outputs": [],
   "source": [
    "Teste_B = base['TakeHome'].isna()"
   ]
  },
  {
   "cell_type": "code",
   "execution_count": 75,
   "metadata": {},
   "outputs": [],
   "source": [
    "Teste_C = Teste_A & Teste_B"
   ]
  },
  {
   "cell_type": "code",
   "execution_count": 76,
   "metadata": {},
   "outputs": [],
   "source": [
    "base.loc[Teste_C,'TakeHome'] = media_r"
   ]
  },
  {
   "cell_type": "code",
   "execution_count": 77,
   "metadata": {},
   "outputs": [],
   "source": [
    "base.loc[(base['Class']=='SQL')&(base['TakeHome'].isna()),'TakeHome'] = media_sql"
   ]
  },
  {
   "cell_type": "code",
   "execution_count": 78,
   "metadata": {},
   "outputs": [
    {
     "name": "stdout",
     "output_type": "stream",
     "text": [
      "<class 'pandas.core.frame.DataFrame'>\n",
      "Int64Index: 99 entries, 0 to 98\n",
      "Data columns (total 8 columns):\n",
      " #   Column      Non-Null Count  Dtype  \n",
      "---  ------      --------------  -----  \n",
      " 0   Prefix      99 non-null     int64  \n",
      " 1   Assignment  99 non-null     float64\n",
      " 2   Midterm     99 non-null     float64\n",
      " 3   TakeHome    97 non-null     float64\n",
      " 4   Final       86 non-null     float64\n",
      " 5   Class       88 non-null     object \n",
      " 6   ID          99 non-null     int64  \n",
      " 7   BD          99 non-null     object \n",
      "dtypes: float64(4), int64(2), object(2)\n",
      "memory usage: 7.0+ KB\n"
     ]
    }
   ],
   "source": [
    "base.info()"
   ]
  },
  {
   "cell_type": "markdown",
   "metadata": {},
   "source": [
    "### Preencher valores categoricos"
   ]
  },
  {
   "cell_type": "code",
   "execution_count": 79,
   "metadata": {},
   "outputs": [
    {
     "data": {
      "text/plain": [
       "R         36\n",
       "Python    30\n",
       "SQL       22\n",
       "Name: Class, dtype: int64"
      ]
     },
     "execution_count": 79,
     "metadata": {},
     "output_type": "execute_result"
    }
   ],
   "source": [
    "base['Class'].value_counts()"
   ]
  },
  {
   "cell_type": "code",
   "execution_count": 88,
   "metadata": {},
   "outputs": [
    {
     "data": {
      "text/plain": [
       "0    R\n",
       "dtype: object"
      ]
     },
     "execution_count": 88,
     "metadata": {},
     "output_type": "execute_result"
    }
   ],
   "source": [
    "base['Class'].mode()"
   ]
  },
  {
   "cell_type": "code",
   "execution_count": 86,
   "metadata": {},
   "outputs": [],
   "source": [
    "#Preencher com o valor mais frequente da coluna Classe\n",
    "base['Class'].fillna('R',inplace=True)"
   ]
  },
  {
   "cell_type": "code",
   "execution_count": 89,
   "metadata": {},
   "outputs": [],
   "source": [
    "Teste_A = base['Class']=='R'\n",
    "Teste_B = base['TakeHome'].isna()\n",
    "Teste_C = Teste_A & Teste_B\n",
    "base.loc[Teste_C,'TakeHome'] = media_r"
   ]
  },
  {
   "cell_type": "code",
   "execution_count": 91,
   "metadata": {},
   "outputs": [
    {
     "data": {
      "text/html": [
       "<div>\n",
       "<style scoped>\n",
       "    .dataframe tbody tr th:only-of-type {\n",
       "        vertical-align: middle;\n",
       "    }\n",
       "\n",
       "    .dataframe tbody tr th {\n",
       "        vertical-align: top;\n",
       "    }\n",
       "\n",
       "    .dataframe thead th {\n",
       "        text-align: right;\n",
       "    }\n",
       "</style>\n",
       "<table border=\"1\" class=\"dataframe\">\n",
       "  <thead>\n",
       "    <tr style=\"text-align: right;\">\n",
       "      <th></th>\n",
       "      <th>Prefix</th>\n",
       "      <th>Assignment</th>\n",
       "      <th>Midterm</th>\n",
       "      <th>TakeHome</th>\n",
       "      <th>Final</th>\n",
       "      <th>Class</th>\n",
       "      <th>ID</th>\n",
       "      <th>BD</th>\n",
       "    </tr>\n",
       "  </thead>\n",
       "  <tbody>\n",
       "    <tr>\n",
       "      <th>9</th>\n",
       "      <td>7</td>\n",
       "      <td>90.10</td>\n",
       "      <td>51.25</td>\n",
       "      <td>88.89</td>\n",
       "      <td>NaN</td>\n",
       "      <td>R</td>\n",
       "      <td>9</td>\n",
       "      <td>1998-09-18</td>\n",
       "    </tr>\n",
       "    <tr>\n",
       "      <th>15</th>\n",
       "      <td>7</td>\n",
       "      <td>93.83</td>\n",
       "      <td>0.00</td>\n",
       "      <td>80.93</td>\n",
       "      <td>NaN</td>\n",
       "      <td>R</td>\n",
       "      <td>15</td>\n",
       "      <td>1992-05-24</td>\n",
       "    </tr>\n",
       "    <tr>\n",
       "      <th>18</th>\n",
       "      <td>8</td>\n",
       "      <td>55.14</td>\n",
       "      <td>75.00</td>\n",
       "      <td>56.11</td>\n",
       "      <td>NaN</td>\n",
       "      <td>R</td>\n",
       "      <td>18</td>\n",
       "      <td>1996-09-10</td>\n",
       "    </tr>\n",
       "    <tr>\n",
       "      <th>20</th>\n",
       "      <td>8</td>\n",
       "      <td>63.40</td>\n",
       "      <td>0.00</td>\n",
       "      <td>72.78</td>\n",
       "      <td>NaN</td>\n",
       "      <td>SQL</td>\n",
       "      <td>20</td>\n",
       "      <td>1990-07-13</td>\n",
       "    </tr>\n",
       "    <tr>\n",
       "      <th>38</th>\n",
       "      <td>6</td>\n",
       "      <td>90.74</td>\n",
       "      <td>61.25</td>\n",
       "      <td>83.26</td>\n",
       "      <td>NaN</td>\n",
       "      <td>R</td>\n",
       "      <td>38</td>\n",
       "      <td>1999-11-13</td>\n",
       "    </tr>\n",
       "    <tr>\n",
       "      <th>53</th>\n",
       "      <td>7</td>\n",
       "      <td>98.58</td>\n",
       "      <td>90.62</td>\n",
       "      <td>100.93</td>\n",
       "      <td>NaN</td>\n",
       "      <td>SQL</td>\n",
       "      <td>53</td>\n",
       "      <td>1995-11-01</td>\n",
       "    </tr>\n",
       "    <tr>\n",
       "      <th>60</th>\n",
       "      <td>8</td>\n",
       "      <td>71.79</td>\n",
       "      <td>41.88</td>\n",
       "      <td>24.77</td>\n",
       "      <td>NaN</td>\n",
       "      <td>Python</td>\n",
       "      <td>60</td>\n",
       "      <td>1993-11-16</td>\n",
       "    </tr>\n",
       "    <tr>\n",
       "      <th>78</th>\n",
       "      <td>8</td>\n",
       "      <td>97.16</td>\n",
       "      <td>83.75</td>\n",
       "      <td>95.93</td>\n",
       "      <td>NaN</td>\n",
       "      <td>Python</td>\n",
       "      <td>78</td>\n",
       "      <td>1990-06-12</td>\n",
       "    </tr>\n",
       "    <tr>\n",
       "      <th>80</th>\n",
       "      <td>8</td>\n",
       "      <td>81.22</td>\n",
       "      <td>79.38</td>\n",
       "      <td>105.93</td>\n",
       "      <td>NaN</td>\n",
       "      <td>Python</td>\n",
       "      <td>80</td>\n",
       "      <td>1997-07-13</td>\n",
       "    </tr>\n",
       "    <tr>\n",
       "      <th>83</th>\n",
       "      <td>4</td>\n",
       "      <td>86.86</td>\n",
       "      <td>92.50</td>\n",
       "      <td>85.19</td>\n",
       "      <td>NaN</td>\n",
       "      <td>R</td>\n",
       "      <td>83</td>\n",
       "      <td>1990-12-22</td>\n",
       "    </tr>\n",
       "    <tr>\n",
       "      <th>85</th>\n",
       "      <td>4</td>\n",
       "      <td>87.93</td>\n",
       "      <td>53.12</td>\n",
       "      <td>87.96</td>\n",
       "      <td>NaN</td>\n",
       "      <td>SQL</td>\n",
       "      <td>85</td>\n",
       "      <td>1995-12-09</td>\n",
       "    </tr>\n",
       "    <tr>\n",
       "      <th>91</th>\n",
       "      <td>8</td>\n",
       "      <td>96.41</td>\n",
       "      <td>56.25</td>\n",
       "      <td>83.26</td>\n",
       "      <td>NaN</td>\n",
       "      <td>R</td>\n",
       "      <td>91</td>\n",
       "      <td>1992-10-11</td>\n",
       "    </tr>\n",
       "    <tr>\n",
       "      <th>92</th>\n",
       "      <td>7</td>\n",
       "      <td>95.60</td>\n",
       "      <td>76.88</td>\n",
       "      <td>108.33</td>\n",
       "      <td>NaN</td>\n",
       "      <td>R</td>\n",
       "      <td>92</td>\n",
       "      <td>1998-05-23</td>\n",
       "    </tr>\n",
       "  </tbody>\n",
       "</table>\n",
       "</div>"
      ],
      "text/plain": [
       "    Prefix  Assignment  Midterm  TakeHome  Final   Class  ID          BD\n",
       "9        7       90.10    51.25     88.89    NaN       R   9  1998-09-18\n",
       "15       7       93.83     0.00     80.93    NaN       R  15  1992-05-24\n",
       "18       8       55.14    75.00     56.11    NaN       R  18  1996-09-10\n",
       "20       8       63.40     0.00     72.78    NaN     SQL  20  1990-07-13\n",
       "38       6       90.74    61.25     83.26    NaN       R  38  1999-11-13\n",
       "53       7       98.58    90.62    100.93    NaN     SQL  53  1995-11-01\n",
       "60       8       71.79    41.88     24.77    NaN  Python  60  1993-11-16\n",
       "78       8       97.16    83.75     95.93    NaN  Python  78  1990-06-12\n",
       "80       8       81.22    79.38    105.93    NaN  Python  80  1997-07-13\n",
       "83       4       86.86    92.50     85.19    NaN       R  83  1990-12-22\n",
       "85       4       87.93    53.12     87.96    NaN     SQL  85  1995-12-09\n",
       "91       8       96.41    56.25     83.26    NaN       R  91  1992-10-11\n",
       "92       7       95.60    76.88    108.33    NaN       R  92  1998-05-23"
      ]
     },
     "execution_count": 91,
     "metadata": {},
     "output_type": "execute_result"
    }
   ],
   "source": [
    "base[base['Final'].isna()]"
   ]
  },
  {
   "cell_type": "code",
   "execution_count": 92,
   "metadata": {},
   "outputs": [],
   "source": [
    "base['Final'].fillna(0,inplace=True)"
   ]
  },
  {
   "cell_type": "code",
   "execution_count": 93,
   "metadata": {},
   "outputs": [
    {
     "data": {
      "text/html": [
       "<div>\n",
       "<style scoped>\n",
       "    .dataframe tbody tr th:only-of-type {\n",
       "        vertical-align: middle;\n",
       "    }\n",
       "\n",
       "    .dataframe tbody tr th {\n",
       "        vertical-align: top;\n",
       "    }\n",
       "\n",
       "    .dataframe thead th {\n",
       "        text-align: right;\n",
       "    }\n",
       "</style>\n",
       "<table border=\"1\" class=\"dataframe\">\n",
       "  <thead>\n",
       "    <tr style=\"text-align: right;\">\n",
       "      <th></th>\n",
       "      <th>Prefix</th>\n",
       "      <th>Assignment</th>\n",
       "      <th>Midterm</th>\n",
       "      <th>TakeHome</th>\n",
       "      <th>Final</th>\n",
       "      <th>Class</th>\n",
       "      <th>ID</th>\n",
       "      <th>BD</th>\n",
       "    </tr>\n",
       "  </thead>\n",
       "  <tbody>\n",
       "    <tr>\n",
       "      <th>89</th>\n",
       "      <td>8</td>\n",
       "      <td>97.00</td>\n",
       "      <td>64.38</td>\n",
       "      <td>90.74</td>\n",
       "      <td>58.61</td>\n",
       "      <td>R</td>\n",
       "      <td>89</td>\n",
       "      <td>1990-07-23</td>\n",
       "    </tr>\n",
       "    <tr>\n",
       "      <th>90</th>\n",
       "      <td>8</td>\n",
       "      <td>97.33</td>\n",
       "      <td>0.00</td>\n",
       "      <td>108.89</td>\n",
       "      <td>71.11</td>\n",
       "      <td>R</td>\n",
       "      <td>90</td>\n",
       "      <td>1996-01-26</td>\n",
       "    </tr>\n",
       "    <tr>\n",
       "      <th>91</th>\n",
       "      <td>8</td>\n",
       "      <td>96.41</td>\n",
       "      <td>56.25</td>\n",
       "      <td>83.26</td>\n",
       "      <td>0.00</td>\n",
       "      <td>R</td>\n",
       "      <td>91</td>\n",
       "      <td>1992-10-11</td>\n",
       "    </tr>\n",
       "    <tr>\n",
       "      <th>92</th>\n",
       "      <td>7</td>\n",
       "      <td>95.60</td>\n",
       "      <td>76.88</td>\n",
       "      <td>108.33</td>\n",
       "      <td>0.00</td>\n",
       "      <td>R</td>\n",
       "      <td>92</td>\n",
       "      <td>1998-05-23</td>\n",
       "    </tr>\n",
       "    <tr>\n",
       "      <th>93</th>\n",
       "      <td>8</td>\n",
       "      <td>87.52</td>\n",
       "      <td>56.25</td>\n",
       "      <td>71.85</td>\n",
       "      <td>85.00</td>\n",
       "      <td>SQL</td>\n",
       "      <td>93</td>\n",
       "      <td>1999-12-24</td>\n",
       "    </tr>\n",
       "    <tr>\n",
       "      <th>94</th>\n",
       "      <td>8</td>\n",
       "      <td>96.73</td>\n",
       "      <td>0.00</td>\n",
       "      <td>93.52</td>\n",
       "      <td>61.94</td>\n",
       "      <td>R</td>\n",
       "      <td>94</td>\n",
       "      <td>1992-08-06</td>\n",
       "    </tr>\n",
       "    <tr>\n",
       "      <th>95</th>\n",
       "      <td>7</td>\n",
       "      <td>85.34</td>\n",
       "      <td>41.25</td>\n",
       "      <td>93.70</td>\n",
       "      <td>39.72</td>\n",
       "      <td>R</td>\n",
       "      <td>95</td>\n",
       "      <td>1993-01-02</td>\n",
       "    </tr>\n",
       "    <tr>\n",
       "      <th>96</th>\n",
       "      <td>8</td>\n",
       "      <td>89.94</td>\n",
       "      <td>87.50</td>\n",
       "      <td>90.74</td>\n",
       "      <td>87.78</td>\n",
       "      <td>R</td>\n",
       "      <td>96</td>\n",
       "      <td>1996-02-17</td>\n",
       "    </tr>\n",
       "    <tr>\n",
       "      <th>97</th>\n",
       "      <td>7</td>\n",
       "      <td>95.60</td>\n",
       "      <td>66.25</td>\n",
       "      <td>99.81</td>\n",
       "      <td>85.56</td>\n",
       "      <td>Python</td>\n",
       "      <td>97</td>\n",
       "      <td>1999-03-14</td>\n",
       "    </tr>\n",
       "    <tr>\n",
       "      <th>98</th>\n",
       "      <td>8</td>\n",
       "      <td>63.40</td>\n",
       "      <td>73.12</td>\n",
       "      <td>72.78</td>\n",
       "      <td>77.22</td>\n",
       "      <td>Python</td>\n",
       "      <td>98</td>\n",
       "      <td>1995-12-24</td>\n",
       "    </tr>\n",
       "  </tbody>\n",
       "</table>\n",
       "</div>"
      ],
      "text/plain": [
       "    Prefix  Assignment  Midterm  TakeHome  Final   Class  ID          BD\n",
       "89       8       97.00    64.38     90.74  58.61       R  89  1990-07-23\n",
       "90       8       97.33     0.00    108.89  71.11       R  90  1996-01-26\n",
       "91       8       96.41    56.25     83.26   0.00       R  91  1992-10-11\n",
       "92       7       95.60    76.88    108.33   0.00       R  92  1998-05-23\n",
       "93       8       87.52    56.25     71.85  85.00     SQL  93  1999-12-24\n",
       "94       8       96.73     0.00     93.52  61.94       R  94  1992-08-06\n",
       "95       7       85.34    41.25     93.70  39.72       R  95  1993-01-02\n",
       "96       8       89.94    87.50     90.74  87.78       R  96  1996-02-17\n",
       "97       7       95.60    66.25     99.81  85.56  Python  97  1999-03-14\n",
       "98       8       63.40    73.12     72.78  77.22  Python  98  1995-12-24"
      ]
     },
     "execution_count": 93,
     "metadata": {},
     "output_type": "execute_result"
    }
   ],
   "source": [
    "base.tail(10)"
   ]
  },
  {
   "cell_type": "code",
   "execution_count": 94,
   "metadata": {},
   "outputs": [
    {
     "name": "stdout",
     "output_type": "stream",
     "text": [
      "<class 'pandas.core.frame.DataFrame'>\n",
      "Int64Index: 99 entries, 0 to 98\n",
      "Data columns (total 8 columns):\n",
      " #   Column      Non-Null Count  Dtype  \n",
      "---  ------      --------------  -----  \n",
      " 0   Prefix      99 non-null     int64  \n",
      " 1   Assignment  99 non-null     float64\n",
      " 2   Midterm     99 non-null     float64\n",
      " 3   TakeHome    99 non-null     float64\n",
      " 4   Final       99 non-null     float64\n",
      " 5   Class       99 non-null     object \n",
      " 6   ID          99 non-null     int64  \n",
      " 7   BD          99 non-null     object \n",
      "dtypes: float64(4), int64(2), object(2)\n",
      "memory usage: 7.0+ KB\n"
     ]
    }
   ],
   "source": [
    "base.info()"
   ]
  },
  {
   "cell_type": "markdown",
   "metadata": {},
   "source": [
    "# Discretização númerica"
   ]
  },
  {
   "cell_type": "markdown",
   "metadata": {},
   "source": [
    "## Cut"
   ]
  },
  {
   "cell_type": "code",
   "execution_count": 99,
   "metadata": {},
   "outputs": [],
   "source": [
    "base['FAIXA_CUT'] = pd.cut(base.Assignment,3,labels=['C','B','A'])"
   ]
  },
  {
   "cell_type": "markdown",
   "metadata": {},
   "source": [
    "## QCUT"
   ]
  },
  {
   "cell_type": "code",
   "execution_count": 103,
   "metadata": {},
   "outputs": [],
   "source": [
    "base['FAIXA_QCUT'] =  pd.qcut(base.Assignment,3,labels=['C','B','A'])"
   ]
  },
  {
   "cell_type": "code",
   "execution_count": 102,
   "metadata": {},
   "outputs": [
    {
     "data": {
      "text/plain": [
       "<AxesSubplot:>"
      ]
     },
     "execution_count": 102,
     "metadata": {},
     "output_type": "execute_result"
    },
    {
     "data": {
      "image/png": "[encoded data removed]",
      "text/plain": [
       "<Figure size 432x288 with 1 Axes>"
      ]
     },
     "metadata": {
      "needs_background": "light"
     },
     "output_type": "display_data"
    }
   ],
   "source": [
    "base.Assignment.hist()"
   ]
  },
  {
   "cell_type": "markdown",
   "metadata": {},
   "source": [
    "## One Hot Enconding"
   ]
  },
  {
   "cell_type": "markdown",
   "metadata": {},
   "source": [
    "### Pandas"
   ]
  },
  {
   "cell_type": "code",
   "execution_count": 106,
   "metadata": {},
   "outputs": [],
   "source": [
    "dummies = pd.get_dummies(base.Class,prefix='Class',drop_first=True)"
   ]
  },
  {
   "cell_type": "code",
   "execution_count": 107,
   "metadata": {},
   "outputs": [
    {
     "data": {
      "text/plain": [
       "Index(['Class_R', 'Class_SQL'], dtype='object')"
      ]
     },
     "execution_count": 107,
     "metadata": {},
     "output_type": "execute_result"
    }
   ],
   "source": [
    "dummies.columns"
   ]
  },
  {
   "cell_type": "code",
   "execution_count": 108,
   "metadata": {},
   "outputs": [],
   "source": [
    "base.loc[:,dummies.columns] = dummies"
   ]
  },
  {
   "cell_type": "code",
   "execution_count": 109,
   "metadata": {},
   "outputs": [
    {
     "data": {
      "text/html": [
       "<div>\n",
       "<style scoped>\n",
       "    .dataframe tbody tr th:only-of-type {\n",
       "        vertical-align: middle;\n",
       "    }\n",
       "\n",
       "    .dataframe tbody tr th {\n",
       "        vertical-align: top;\n",
       "    }\n",
       "\n",
       "    .dataframe thead th {\n",
       "        text-align: right;\n",
       "    }\n",
       "</style>\n",
       "<table border=\"1\" class=\"dataframe\">\n",
       "  <thead>\n",
       "    <tr style=\"text-align: right;\">\n",
       "      <th></th>\n",
       "      <th>Prefix</th>\n",
       "      <th>Assignment</th>\n",
       "      <th>Midterm</th>\n",
       "      <th>TakeHome</th>\n",
       "      <th>Final</th>\n",
       "      <th>Class</th>\n",
       "      <th>ID</th>\n",
       "      <th>BD</th>\n",
       "      <th>FAIXA_CUT</th>\n",
       "      <th>FAIXA_QCUT</th>\n",
       "      <th>Class_R</th>\n",
       "      <th>Class_SQL</th>\n",
       "    </tr>\n",
       "  </thead>\n",
       "  <tbody>\n",
       "    <tr>\n",
       "      <th>0</th>\n",
       "      <td>5</td>\n",
       "      <td>57.14</td>\n",
       "      <td>64.38</td>\n",
       "      <td>51.48</td>\n",
       "      <td>52.50</td>\n",
       "      <td>Python</td>\n",
       "      <td>0</td>\n",
       "      <td>1994-05-07</td>\n",
       "      <td>B</td>\n",
       "      <td>C</td>\n",
       "      <td>0</td>\n",
       "      <td>0</td>\n",
       "    </tr>\n",
       "    <tr>\n",
       "      <th>1</th>\n",
       "      <td>8</td>\n",
       "      <td>95.05</td>\n",
       "      <td>67.50</td>\n",
       "      <td>99.07</td>\n",
       "      <td>68.33</td>\n",
       "      <td>R</td>\n",
       "      <td>1</td>\n",
       "      <td>1994-07-09</td>\n",
       "      <td>A</td>\n",
       "      <td>A</td>\n",
       "      <td>1</td>\n",
       "      <td>0</td>\n",
       "    </tr>\n",
       "    <tr>\n",
       "      <th>2</th>\n",
       "      <td>8</td>\n",
       "      <td>83.70</td>\n",
       "      <td>30.00</td>\n",
       "      <td>63.15</td>\n",
       "      <td>48.89</td>\n",
       "      <td>SQL</td>\n",
       "      <td>2</td>\n",
       "      <td>1992-02-12</td>\n",
       "      <td>A</td>\n",
       "      <td>C</td>\n",
       "      <td>0</td>\n",
       "      <td>1</td>\n",
       "    </tr>\n",
       "    <tr>\n",
       "      <th>3</th>\n",
       "      <td>7</td>\n",
       "      <td>81.22</td>\n",
       "      <td>49.38</td>\n",
       "      <td>105.93</td>\n",
       "      <td>80.56</td>\n",
       "      <td>R</td>\n",
       "      <td>3</td>\n",
       "      <td>1995-05-24</td>\n",
       "      <td>A</td>\n",
       "      <td>C</td>\n",
       "      <td>1</td>\n",
       "      <td>0</td>\n",
       "    </tr>\n",
       "    <tr>\n",
       "      <th>4</th>\n",
       "      <td>8</td>\n",
       "      <td>91.32</td>\n",
       "      <td>0.00</td>\n",
       "      <td>107.41</td>\n",
       "      <td>73.89</td>\n",
       "      <td>SQL</td>\n",
       "      <td>4</td>\n",
       "      <td>1994-05-18</td>\n",
       "      <td>A</td>\n",
       "      <td>B</td>\n",
       "      <td>0</td>\n",
       "      <td>1</td>\n",
       "    </tr>\n",
       "    <tr>\n",
       "      <th>...</th>\n",
       "      <td>...</td>\n",
       "      <td>...</td>\n",
       "      <td>...</td>\n",
       "      <td>...</td>\n",
       "      <td>...</td>\n",
       "      <td>...</td>\n",
       "      <td>...</td>\n",
       "      <td>...</td>\n",
       "      <td>...</td>\n",
       "      <td>...</td>\n",
       "      <td>...</td>\n",
       "      <td>...</td>\n",
       "    </tr>\n",
       "    <tr>\n",
       "      <th>94</th>\n",
       "      <td>8</td>\n",
       "      <td>96.73</td>\n",
       "      <td>0.00</td>\n",
       "      <td>93.52</td>\n",
       "      <td>61.94</td>\n",
       "      <td>R</td>\n",
       "      <td>94</td>\n",
       "      <td>1992-08-06</td>\n",
       "      <td>A</td>\n",
       "      <td>A</td>\n",
       "      <td>1</td>\n",
       "      <td>0</td>\n",
       "    </tr>\n",
       "    <tr>\n",
       "      <th>95</th>\n",
       "      <td>7</td>\n",
       "      <td>85.34</td>\n",
       "      <td>41.25</td>\n",
       "      <td>93.70</td>\n",
       "      <td>39.72</td>\n",
       "      <td>R</td>\n",
       "      <td>95</td>\n",
       "      <td>1993-01-02</td>\n",
       "      <td>A</td>\n",
       "      <td>B</td>\n",
       "      <td>1</td>\n",
       "      <td>0</td>\n",
       "    </tr>\n",
       "    <tr>\n",
       "      <th>96</th>\n",
       "      <td>8</td>\n",
       "      <td>89.94</td>\n",
       "      <td>87.50</td>\n",
       "      <td>90.74</td>\n",
       "      <td>87.78</td>\n",
       "      <td>R</td>\n",
       "      <td>96</td>\n",
       "      <td>1996-02-17</td>\n",
       "      <td>A</td>\n",
       "      <td>B</td>\n",
       "      <td>1</td>\n",
       "      <td>0</td>\n",
       "    </tr>\n",
       "    <tr>\n",
       "      <th>97</th>\n",
       "      <td>7</td>\n",
       "      <td>95.60</td>\n",
       "      <td>66.25</td>\n",
       "      <td>99.81</td>\n",
       "      <td>85.56</td>\n",
       "      <td>Python</td>\n",
       "      <td>97</td>\n",
       "      <td>1999-03-14</td>\n",
       "      <td>A</td>\n",
       "      <td>A</td>\n",
       "      <td>0</td>\n",
       "      <td>0</td>\n",
       "    </tr>\n",
       "    <tr>\n",
       "      <th>98</th>\n",
       "      <td>8</td>\n",
       "      <td>63.40</td>\n",
       "      <td>73.12</td>\n",
       "      <td>72.78</td>\n",
       "      <td>77.22</td>\n",
       "      <td>Python</td>\n",
       "      <td>98</td>\n",
       "      <td>1995-12-24</td>\n",
       "      <td>B</td>\n",
       "      <td>C</td>\n",
       "      <td>0</td>\n",
       "      <td>0</td>\n",
       "    </tr>\n",
       "  </tbody>\n",
       "</table>\n",
       "<p>99 rows × 12 columns</p>\n",
       "</div>"
      ],
      "text/plain": [
       "    Prefix  Assignment  Midterm  TakeHome  Final   Class  ID          BD  \\\n",
       "0        5       57.14    64.38     51.48  52.50  Python   0  1994-05-07   \n",
       "1        8       95.05    67.50     99.07  68.33       R   1  1994-07-09   \n",
       "2        8       83.70    30.00     63.15  48.89     SQL   2  1992-02-12   \n",
       "3        7       81.22    49.38    105.93  80.56       R   3  1995-05-24   \n",
       "4        8       91.32     0.00    107.41  73.89     SQL   4  1994-05-18   \n",
       "..     ...         ...      ...       ...    ...     ...  ..         ...   \n",
       "94       8       96.73     0.00     93.52  61.94       R  94  1992-08-06   \n",
       "95       7       85.34    41.25     93.70  39.72       R  95  1993-01-02   \n",
       "96       8       89.94    87.50     90.74  87.78       R  96  1996-02-17   \n",
       "97       7       95.60    66.25     99.81  85.56  Python  97  1999-03-14   \n",
       "98       8       63.40    73.12     72.78  77.22  Python  98  1995-12-24   \n",
       "\n",
       "   FAIXA_CUT FAIXA_QCUT  Class_R  Class_SQL  \n",
       "0          B          C        0          0  \n",
       "1          A          A        1          0  \n",
       "2          A          C        0          1  \n",
       "3          A          C        1          0  \n",
       "4          A          B        0          1  \n",
       "..       ...        ...      ...        ...  \n",
       "94         A          A        1          0  \n",
       "95         A          B        1          0  \n",
       "96         A          B        1          0  \n",
       "97         A          A        0          0  \n",
       "98         B          C        0          0  \n",
       "\n",
       "[99 rows x 12 columns]"
      ]
     },
     "execution_count": 109,
     "metadata": {},
     "output_type": "execute_result"
    }
   ],
   "source": [
    "base"
   ]
  },
  {
   "cell_type": "markdown",
   "metadata": {},
   "source": [
    "### Sklearn"
   ]
  },
  {
   "cell_type": "code",
   "execution_count": 111,
   "metadata": {},
   "outputs": [],
   "source": [
    "from sklearn.preprocessing import OneHotEncoder"
   ]
  },
  {
   "cell_type": "code",
   "execution_count": 112,
   "metadata": {},
   "outputs": [],
   "source": [
    "enc = OneHotEncoder()"
   ]
  },
  {
   "cell_type": "code",
   "execution_count": 113,
   "metadata": {},
   "outputs": [],
   "source": [
    "codificacao = enc.fit_transform(base.Class.values.reshape(-1,1))"
   ]
  },
  {
   "cell_type": "code",
   "execution_count": 117,
   "metadata": {},
   "outputs": [
    {
     "data": {
      "text/plain": [
       "[array(['Python', 'R', 'SQL'], dtype=object)]"
      ]
     },
     "execution_count": 117,
     "metadata": {},
     "output_type": "execute_result"
    }
   ],
   "source": [
    "enc.categories_"
   ]
  },
  {
   "cell_type": "code",
   "execution_count": 118,
   "metadata": {},
   "outputs": [],
   "source": [
    "dummies_2 = pd.DataFrame(codificacao.toarray(),columns=enc.categories_)"
   ]
  },
  {
   "cell_type": "code",
   "execution_count": 119,
   "metadata": {
    "collapsed": true
   },
   "outputs": [
    {
     "data": {
      "text/html": [
       "<div>\n",
       "<style scoped>\n",
       "    .dataframe tbody tr th:only-of-type {\n",
       "        vertical-align: middle;\n",
       "    }\n",
       "\n",
       "    .dataframe tbody tr th {\n",
       "        vertical-align: top;\n",
       "    }\n",
       "\n",
       "    .dataframe thead tr th {\n",
       "        text-align: left;\n",
       "    }\n",
       "</style>\n",
       "<table border=\"1\" class=\"dataframe\">\n",
       "  <thead>\n",
       "    <tr>\n",
       "      <th></th>\n",
       "      <th>Python</th>\n",
       "      <th>R</th>\n",
       "      <th>SQL</th>\n",
       "    </tr>\n",
       "  </thead>\n",
       "  <tbody>\n",
       "    <tr>\n",
       "      <th>0</th>\n",
       "      <td>1.0</td>\n",
       "      <td>0.0</td>\n",
       "      <td>0.0</td>\n",
       "    </tr>\n",
       "    <tr>\n",
       "      <th>1</th>\n",
       "      <td>0.0</td>\n",
       "      <td>1.0</td>\n",
       "      <td>0.0</td>\n",
       "    </tr>\n",
       "    <tr>\n",
       "      <th>2</th>\n",
       "      <td>0.0</td>\n",
       "      <td>0.0</td>\n",
       "      <td>1.0</td>\n",
       "    </tr>\n",
       "    <tr>\n",
       "      <th>3</th>\n",
       "      <td>0.0</td>\n",
       "      <td>1.0</td>\n",
       "      <td>0.0</td>\n",
       "    </tr>\n",
       "    <tr>\n",
       "      <th>4</th>\n",
       "      <td>0.0</td>\n",
       "      <td>0.0</td>\n",
       "      <td>1.0</td>\n",
       "    </tr>\n",
       "  </tbody>\n",
       "</table>\n",
       "</div>"
      ],
      "text/plain": [
       "  Python    R  SQL\n",
       "0    1.0  0.0  0.0\n",
       "1    0.0  1.0  0.0\n",
       "2    0.0  0.0  1.0\n",
       "3    0.0  1.0  0.0\n",
       "4    0.0  0.0  1.0"
      ]
     },
     "execution_count": 119,
     "metadata": {},
     "output_type": "execute_result"
    }
   ],
   "source": [
    "dummies_2.head()"
   ]
  },
  {
   "cell_type": "code",
   "execution_count": 123,
   "metadata": {},
   "outputs": [
    {
     "data": {
      "text/plain": [
       "array([[0., 1., 0.],\n",
       "       [1., 0., 0.],\n",
       "       [0., 0., 1.],\n",
       "       [0., 0., 1.],\n",
       "       [0., 1., 0.]])"
      ]
     },
     "execution_count": 123,
     "metadata": {},
     "output_type": "execute_result"
    }
   ],
   "source": [
    "enc.transform(np.reshape(['R','Python','SQL','SQL','R'],(-1,1))).toarray()"
   ]
  },
  {
   "cell_type": "code",
   "execution_count": null,
   "metadata": {},
   "outputs": [],
   "source": []
  }
 ],
 "metadata": {
  "kernelspec": {
   "display_name": "Python 3",
   "language": "python",
   "name": "python3"
  },
  "language_info": {
   "codemirror_mode": {
    "name": "ipython",
    "version": 3
   },
   "file_extension": ".py",
   "mimetype": "text/x-python",
   "name": "python",
   "nbconvert_exporter": "python",
   "pygments_lexer": "ipython3",
   "version": "3.7.6"
  },
  "toc": {
   "base_numbering": 1,
   "nav_menu": {},
   "number_sections": true,
   "sideBar": true,
   "skip_h1_title": false,
   "title_cell": "Table of Contents",
   "title_sidebar": "Contents",
   "toc_cell": false,
   "toc_position": {},
   "toc_section_display": true,
   "toc_window_display": false
  }
 },
 "nbformat": 4,
 "nbformat_minor": 4
}
