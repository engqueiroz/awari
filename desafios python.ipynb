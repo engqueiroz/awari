{
 "cells": [
  {
   "cell_type": "code",
   "execution_count": 33,
   "id": "d889a7ab",
   "metadata": {},
   "outputs": [
    {
     "name": "stdout",
     "output_type": "stream",
     "text": [
      "{'red': 4, 'green': 4, 'black': 5, 'pink': 6, 'white': 5, 'eyes': 1, 'orange': 4}\n"
     ]
    }
   ],
   "source": [
    "# 1. Escreva um programa em Python para contabilizar a quantidade de ocorrências de cada palavra.\n",
    "\n",
    "palavras = [   'red', 'green', 'black', 'pink', 'black', 'white', 'black', 'eyes',   'white', 'black', 'orange', 'pink', \n",
    "            'pink', 'red', 'red', 'white', 'orange',   'white', \"black\", 'pink', 'green', 'green', 'pink', 'green', 'pink',   \n",
    "            'white', 'orange', \"orange\", 'red']\n",
    "\n",
    "contagem = {}\n",
    "for palavra in palavras:\n",
    "  total = palavras.count(palavra)\n",
    "  contagem[f'{palavra}'] = total\n",
    "    \n",
    "print(contagem)"
   ]
  },
  {
   "cell_type": "code",
   "execution_count": 19,
   "id": "57eddc5e",
   "metadata": {},
   "outputs": [
    {
     "name": "stdout",
     "output_type": "stream",
     "text": [
      "3599996400\n"
     ]
    }
   ],
   "source": [
    "# 2. Escreva uma função que recebe um número inteiro de horas e a converte em segundos.\n",
    "\n",
    "def convert_to_sec(number):\n",
    "  print(number * 3600)\n",
    "\n",
    "convert_to_sec(999999)"
   ]
  },
  {
   "cell_type": "code",
   "execution_count": 25,
   "id": "b59b50bb",
   "metadata": {},
   "outputs": [
    {
     "name": "stdout",
     "output_type": "stream",
     "text": [
      "[-99999, -74, -69, -13, 1, 2, 3, 4, 5, 6, 9, 13, 15, 30, 45, 54, 66, 69, 72, 81, 99, 777, 99999]\n"
     ]
    }
   ],
   "source": [
    "# 3. Escreva uma função que receba uma lista e retorne uma nova lista ordenada e sem valores duplicados.\n",
    "\n",
    "lista = [1,2,3,4,3,30,3,4,5,6,9,3,2,1,2,4,5,15,6,6,3,13,4,45,5,99,54,72,66,69,1,81,99999,-99999,777,-13,-69,-74]\n",
    "\n",
    "def order_list(entrada):\n",
    "  lista_final = list(set(entrada))\n",
    "  lista_final.sort()\n",
    "  print(lista_final)\n",
    "\n",
    "order_list(lista)"
   ]
  },
  {
   "cell_type": "code",
   "execution_count": 30,
   "id": "028b0744",
   "metadata": {},
   "outputs": [
    {
     "name": "stdout",
     "output_type": "stream",
     "text": [
      "R é chato\n"
     ]
    }
   ],
   "source": [
    "# 4. Escreva uma função que receba uma string como parâmetro e retorne outra string com as palavras em ordem inversa.\n",
    "\n",
    "def inverte_texto(texto):\n",
    "  lista = texto.split()\n",
    "  lista.reverse()\n",
    "  texto_invertido = ' '.join(lista)\n",
    "  print(texto_invertido)\n",
    "    \n",
    "inverte_texto('chato é R')"
   ]
  },
  {
   "cell_type": "code",
   "execution_count": 32,
   "id": "44c3ddd1",
   "metadata": {},
   "outputs": [
    {
     "name": "stdout",
     "output_type": "stream",
     "text": [
      "{'(464) 788-2397', '(885) 407-1719', '(650) 684-1437', '(255) 826-9050', '(311) 799-3883', '(511) 821-7870', '(821) 642-8987', '(554) 994-1517', '(812) 816-0881', '(943) 769-1061', '(410) 665-4447', '(285) 608-2448', '(935) 875-2054', '(765) 368-1506', '(596) 336-5508'}\n"
     ]
    }
   ],
   "source": [
    "# 5.Você trabalha em uma loja de sapatos e deve contatar uma lista de clientes dada pela seguinte lista de números de telefones:\n",
    "\n",
    "numeros_telefone = [ '(765) 368-1506','(285) 608-2448','(255) 826-9050','(554) 994-1517','(285) 608-2448','(596) 336-5508',\n",
    "                    '(511) 821-7870','(410) 665-4447','(821) 642-8987','(285) 608-2448','(311) 799-3883','(935) 875-2054',\n",
    "                    '(464) 788-2397','(765) 368-1506','(650) 684-1437','(812) 816-0881','(285) 608-2448','(885) 407-1719',\n",
    "                    '(943) 769-1061','(596) 336-5508','(765) 368-1506','(255) 826-9050', ]\n",
    "\n",
    "#No entanto, alguns destes números estão duplicados. \n",
    "## Você seria capaz de remover estes numeros duplicados para evitar que clientes sejam contatado mais de uma vez?\n",
    "\n",
    "print(set(numeros_telefone))"
   ]
  },
  {
   "cell_type": "code",
   "execution_count": 37,
   "id": "b2b647cd",
   "metadata": {},
   "outputs": [
    {
     "name": "stdout",
     "output_type": "stream",
     "text": [
      "[1, 2, 3, 5, 8, 13]\n"
     ]
    }
   ],
   "source": [
    "# 6. Crie uma função que receba duas listas e retorne uma lista que contenha apenas os elementos comuns entre as listas \n",
    "# (sem repetição). A função deve suportar lista de tamanhos diferentes.\n",
    "\n",
    "# listas:\n",
    "a = [1, 1, 2, 3, 5, 8, 13, 21, 34, 55, 89]\n",
    "b = [1, 2, 3, 4, 5, 6, 7, 8, 9, 10, 11, 12, 13]\n",
    "    \n",
    "def elementos_comuns(lista1, lista2):\n",
    "  set_1 = set(lista1)\n",
    "  set_2 = set(lista2)\n",
    "  final = list(set_1.intersection(set_2))\n",
    "  print(final)\n",
    "    \n",
    "elementos_comuns([1, 1, 2, 3, 5, 8, 13, 21, 34, 55, 89], [1, 2, 3, 4, 5, 6, 7, 8, 9, 10, 11, 12, 13])"
   ]
  },
  {
   "cell_type": "code",
   "execution_count": 40,
   "id": "ea5255d9",
   "metadata": {},
   "outputs": [
    {
     "name": "stdout",
     "output_type": "stream",
     "text": [
      "['(835) 955-1498',\n",
      " '(873) 810-8267',\n",
      " '(300) 303-5462',\n",
      " '(964) 710-9625',\n",
      " '(941) 225-3869',\n",
      " '(641) 367-5279',\n",
      " '(491) 666-5367',\n",
      " '(640) 427-2597',\n",
      " '(757) 450-9985',\n",
      " '(897) 932-2512',\n",
      " '(797) 649-3653',\n",
      " '(403) 343-7705',\n",
      " '(294) 430-7720',\n",
      " '(856) 338-7094']\n"
     ]
    }
   ],
   "source": [
    "# 7. Um professor de universidade tem uma turma com os seguintes números de telefones:\n",
    "\n",
    "telefones_alunos = ['(873) 810-8267', '(633) 244-7325', '(300) 303-5462', '(938) 300-8890', '(429) 264-7427', '(737) 805-2326', \n",
    "                    '(768) 956-8497', '(941) 225-3869', '(203) 606-9463', '(294) 430-7720', '(896) 781-5087', '(397) 845-8267', \n",
    "                    '(788) 717-6858', '(419) 734-4188', '(682) 595-3278', '(835) 955-1498', '(296) 415-9944', '(897) 932-2512', \n",
    "                    '(263) 415-3893', '(822) 640-8496', '(640) 427-2597', '(856) 338-7094', '(807) 554-4076', '(641) 367-5279', \n",
    "                    '(828) 866-0696', '(727) 376-5749', '(921) 948-2244', '(964) 710-9625', '(596) 685-1242', '(403) 343-7705', \n",
    "                    '(227) 389-3685', '(264) 372-7298', '(797) 649-3653', '(374) 361-3844', '(618) 490-4228', '(987) 803-5550', \n",
    "                    '(228) 976-9699', '(757) 450-9985', '(491) 666-5367']\n",
    "\n",
    "# Ele criou um grupo do whatsapp no entanto somente os seguintes números entraram:\n",
    "\n",
    "entraram_no_grupo = ['(596) 685-1242', '(727) 376-5749', '(987) 803-5550', '(633) 244-7325', '(828) 866-0696', '(263) 415-3893', \n",
    "                     '(203) 606-9463', '(296) 415-9944', '(419) 734-4188', '(618) 490-4228', '(682) 595-3278', '(938) 300-8890', \n",
    "                     '(264) 372-7298', '(768) 956-8497', '(737) 805-2326', '(788) 717-6858', '(228) 976-9699', '(896) 781-5087',\n",
    "                     '(374) 361-3844', '(921) 948-2244', '(807) 554-4076', '(822) 640-8496', '(227) 389-3685', '(429) 264-7427', \n",
    "                     '(397) 845-8267']\n",
    "\n",
    "# Você seria capaz de criar uma lista dos alunos que ainda não entraram no grupo para que sejam contatados individualmente?\n",
    "\n",
    "from pprint import pprint\n",
    "alunos = set(telefones_alunos)\n",
    "alunos_grupo = set(entraram_no_grupo)\n",
    "alunos_fora_grupo = list(alunos.difference(alunos_grupo))\n",
    "pprint(alunos_fora_grupo)"
   ]
  },
  {
   "cell_type": "code",
   "execution_count": 41,
   "id": "439724f9",
   "metadata": {},
   "outputs": [
    {
     "ename": "FileNotFoundError",
     "evalue": "[Errno 2] No such file or directory: 'texto.txt'",
     "output_type": "error",
     "traceback": [
      "\u001b[1;31m---------------------------------------------------------------------------\u001b[0m",
      "\u001b[1;31mFileNotFoundError\u001b[0m                         Traceback (most recent call last)",
      "\u001b[1;32m<ipython-input-41-18c36ecd85c7>\u001b[0m in \u001b[0;36m<module>\u001b[1;34m\u001b[0m\n\u001b[0;32m      2\u001b[0m \u001b[1;33m\u001b[0m\u001b[0m\n\u001b[0;32m      3\u001b[0m \u001b[1;32mfrom\u001b[0m \u001b[0moperator\u001b[0m \u001b[1;32mimport\u001b[0m \u001b[0mitemgetter\u001b[0m\u001b[1;33m\u001b[0m\u001b[1;33m\u001b[0m\u001b[0m\n\u001b[1;32m----> 4\u001b[1;33m \u001b[1;32mwith\u001b[0m \u001b[0mopen\u001b[0m\u001b[1;33m(\u001b[0m\u001b[1;34m'texto.txt'\u001b[0m\u001b[1;33m,\u001b[0m \u001b[1;34m'r'\u001b[0m\u001b[1;33m)\u001b[0m \u001b[1;32mas\u001b[0m \u001b[0mf\u001b[0m\u001b[1;33m:\u001b[0m\u001b[1;33m\u001b[0m\u001b[1;33m\u001b[0m\u001b[0m\n\u001b[0m\u001b[0;32m      5\u001b[0m     \u001b[0mdic\u001b[0m \u001b[1;33m=\u001b[0m \u001b[1;33m{\u001b[0m\u001b[1;33m}\u001b[0m\u001b[1;33m\u001b[0m\u001b[1;33m\u001b[0m\u001b[0m\n\u001b[0;32m      6\u001b[0m     \u001b[0mconteudo\u001b[0m \u001b[1;33m=\u001b[0m \u001b[0mf\u001b[0m\u001b[1;33m.\u001b[0m\u001b[0mread\u001b[0m\u001b[1;33m(\u001b[0m\u001b[1;33m)\u001b[0m\u001b[1;33m.\u001b[0m\u001b[0mreplace\u001b[0m\u001b[1;33m(\u001b[0m\u001b[1;34m'.'\u001b[0m\u001b[1;33m,\u001b[0m \u001b[1;34m' '\u001b[0m\u001b[1;33m)\u001b[0m\u001b[1;33m.\u001b[0m\u001b[0mreplace\u001b[0m\u001b[1;33m(\u001b[0m\u001b[1;34m'-'\u001b[0m\u001b[1;33m,\u001b[0m \u001b[1;34m' '\u001b[0m\u001b[1;33m)\u001b[0m\u001b[1;33m.\u001b[0m\u001b[0mreplace\u001b[0m\u001b[1;33m(\u001b[0m\u001b[1;34m','\u001b[0m\u001b[1;33m,\u001b[0m \u001b[1;34m' '\u001b[0m\u001b[1;33m)\u001b[0m\u001b[1;33m.\u001b[0m\u001b[0mreplace\u001b[0m\u001b[1;33m(\u001b[0m\u001b[1;34m')'\u001b[0m\u001b[1;33m,\u001b[0m \u001b[1;34m' '\u001b[0m\u001b[1;33m)\u001b[0m\u001b[1;33m\u001b[0m\u001b[1;33m\u001b[0m\u001b[0m\n",
      "\u001b[1;31mFileNotFoundError\u001b[0m: [Errno 2] No such file or directory: 'texto.txt'"
     ]
    }
   ],
   "source": [
    "# 8. Escreva um script Python para encontrar as 10 palavras mais longas em um arquivo.\n",
    "\n",
    "from operator import itemgetter\n",
    "with open('texto.txt', 'r') as f:\n",
    "    dic = {}    \n",
    "    conteudo = f.read().replace('.', ' ').replace('-', ' ').replace(',', ' ').replace(')', ' ')\n",
    "    for palavra in conteudo.split():\n",
    "        dic[f'{palavra}'] = len(palavra)\n",
    "        ordem = sorted(dic.items(), key=itemgetter(1), reverse=True)\n",
    "    for k, v in enumerate(ordem):\n",
    "        if k < 10:\n",
    "            print(v[0], v[1])"
   ]
  },
  {
   "cell_type": "code",
   "execution_count": 42,
   "id": "99f4a636",
   "metadata": {},
   "outputs": [
    {
     "name": "stdout",
     "output_type": "stream",
     "text": [
      "98\n"
     ]
    }
   ],
   "source": [
    "# 9. Escreva uma função que retorne a soma dos múltiplos de 3 e 5 entre 0 e um número limite (parâmetro). \n",
    "\n",
    "def soma_multiplos(limite):\n",
    "  lista = [num for num in range(1, limite + 1) if num % 3 == 0 or num % 5 == 0]\n",
    "  soma = sum(lista)\n",
    "  print(soma)\n",
    "\n",
    "soma_multiplos(20)"
   ]
  },
  {
   "cell_type": "code",
   "execution_count": 43,
   "id": "67e6a4ca",
   "metadata": {},
   "outputs": [
    {
     "name": "stdout",
     "output_type": "stream",
     "text": [
      "Parte 1: [8, 45, 11]\n",
      "Parte 2: [12, 14, 23]\n",
      "Parte 3: [89, 45, 78]\n"
     ]
    }
   ],
   "source": [
    "# 10. Dada uma lista, divida-a em 3 partes iguais e reverta cada lista.\n",
    "\n",
    "sampleList = [11, 45, 8, 23, 14, 12, 78, 45, 89]\n",
    "l1 = []\n",
    "l2 = []\n",
    "l3 = []\n",
    "qtde = len(sampleList) / 3\n",
    "if qtde.is_integer():\n",
    "  for elem in sampleList:\n",
    "      if len(l1) < qtde:\n",
    "          l1.append(elem)\n",
    "          parte_1 = reversed(l1)\n",
    "      elif len(l2) < qtde:\n",
    "          l2.append(elem)\n",
    "          parte_2 = reversed(l2)\n",
    "      else:\n",
    "          if len(l3) < qtde:\n",
    "              l3.append(elem)\n",
    "              parte_3 = reversed(l3)\n",
    "  print(f'Parte 1: {list(parte_1)}'\n",
    "        f'\\nParte 2: {list(parte_2)}'\n",
    "        f'\\nParte 3: {list(parte_3)}')\n",
    "else:\n",
    "  print('A respectiva lista não pode ser dividida em 3 partes iguais!')"
   ]
  },
  {
   "cell_type": "code",
   "execution_count": 48,
   "id": "b6e52df1",
   "metadata": {},
   "outputs": [],
   "source": [
    "# 11. Dados uma sequência com n números inteiros, determinar quantos números da sequência são pares e quantos são ímpares. \n",
    "\n",
    "def contar_pares_impares(entrada):\n",
    "    par = impar = 0\n",
    "    lista = []\n",
    "    for num in entrada:\n",
    "      if num % 2 == 0:\n",
    "        par += 1\n",
    "      else:\n",
    "        impar += 1\n",
    "    lista.append(par)\n",
    "    lista.append(impar)\n",
    "    return tuple(lista)\n",
    "\n",
    "msg_erro = \"Saída da função para a entrada {} deveria ser {}\"\n",
    "\n",
    "entrada = [6, 2, 7, -5, 8, -4]\n",
    "saida_esperada = (4, 2)\n",
    "assert contar_pares_impares(entrada)==saida_esperada, msg_erro.format(entrada, saida_esperada)\n",
    "\n",
    "entrada = [-3, 2, 7, -5, 8, -4]\n",
    "saida_esperada = (3, 3)\n",
    "assert contar_pares_impares(entrada)==saida_esperada, msg_erro.format(entrada, saida_esperada)\n"
   ]
  },
  {
   "cell_type": "code",
   "execution_count": null,
   "id": "aa6732e5",
   "metadata": {},
   "outputs": [],
   "source": []
  },
  {
   "cell_type": "code",
   "execution_count": 49,
   "id": "2434b302",
   "metadata": {},
   "outputs": [
    {
     "name": "stdout",
     "output_type": "stream",
     "text": [
      "\"12345678\" - Senha inválida\n",
      "\"J3sus0\" - Senha inválida\n",
      "\"#Te5t300\" - Senha válida\n",
      "\"J*90j12374\" - Senha inválida\n",
      "\"Michheeul\" - Senha inválida\n",
      "\"Monk3y6\" - Senha inválida\n",
      "\"1234\" - Senha inválida\n",
      "\"Qw#1234\" - Senha válida\n"
     ]
    }
   ],
   "source": [
    "# 12. Escreva uma função em Python para verificar a validade de uma senha.\n",
    "\n",
    "# Validação:\n",
    "#  Pelo menos 1 letra entre [a-z] e 1 letra entre [A-Z].\n",
    "#  Pelo menos 1 número entre [0-9].\n",
    "#  Pelo menos 1 caractere de [$ # @].\n",
    "#  Comprimento mínimo de 6 caracteres.\n",
    "#  Comprimento máximo de 16 caracteres.\n",
    "\n",
    "# Entradas: \"12345678\", \"J3sus0\", \"#Te5t300\", \"J*90j12374\", \"Michheeul\", \"Monk3y6\"\n",
    "\n",
    "#  saída deve ser a senha e um texto indicando se a senha é válida ou inválida:\n",
    "\n",
    "# \"1234\" - Senha inválida\n",
    "# \"Qw#1234\" - Senha válida\n",
    "lista_senhas = ['12345678','J3sus0','#Te5t300','J*90j12374','Michheeul','Monk3y6','1234', 'Qw#1234']\n",
    "\n",
    "import re\n",
    "def valida_senhas(password):\n",
    "    regex = re.compile(r'^(?=.*[a-z])(?=.*[A-Z])(?=.*[0-9])(?=.*[$#@]).{6,16}$',\n",
    "                       flags=re.M)\n",
    "    resultado = re.findall(regex, password)\n",
    "    if resultado:\n",
    "        print(f'\"{password}\" - Senha válida')\n",
    "    else:\n",
    "        print(f'\"{password}\" - Senha inválida')\n",
    "\n",
    "\n",
    "for senha in lista_senhas:\n",
    "    valida_senhas(senha)"
   ]
  },
  {
   "cell_type": "code",
   "execution_count": null,
   "id": "945b2216",
   "metadata": {},
   "outputs": [],
   "source": []
  }
 ],
 "metadata": {
  "kernelspec": {
   "display_name": "Python 3",
   "language": "python",
   "name": "python3"
  },
  "language_info": {
   "codemirror_mode": {
    "name": "ipython",
    "version": 3
   },
   "file_extension": ".py",
   "mimetype": "text/x-python",
   "name": "python",
   "nbconvert_exporter": "python",
   "pygments_lexer": "ipython3",
   "version": "3.8.8"
  }
 },
 "nbformat": 4,
 "nbformat_minor": 5
}
