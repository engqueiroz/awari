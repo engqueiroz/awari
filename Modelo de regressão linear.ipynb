{
 "cells": [
  {
   "cell_type": "markdown",
   "metadata": {},
   "source": [
    "# Construção Manual"
   ]
  },
  {
   "cell_type": "markdown",
   "metadata": {},
   "source": [
    "1. Representação do modelo ($y(x)=\\theta_0+x\\theta_1$) (OK)\n",
    "2. Definição da função de custo J (OK)\n",
    "3. Função otimização (Gradiente descendente) (OK)\n",
    "4. Atualização dos parâmetros (OK)"
   ]
  },
  {
   "cell_type": "code",
   "execution_count": 3,
   "metadata": {},
   "outputs": [],
   "source": [
    "import numpy as np\n",
    "import matplotlib.pyplot as plt"
   ]
  },
  {
   "cell_type": "markdown",
   "metadata": {},
   "source": [
    "## Função de custo\n",
    "\n",
    "$J(\\theta_0,\\theta_1)=\\frac{1}{2m}\\sum^m_{i=1}(y_i-\\hat{y_i})^2$"
   ]
  },
  {
   "cell_type": "code",
   "execution_count": 30,
   "metadata": {},
   "outputs": [],
   "source": [
    "def calcula_custo(theta, x, y):\n",
    "    \n",
    "    #Capturando o número de amostras\n",
    "    m = len(y)\n",
    "    \n",
    "    #Criando matriz para multiplicação\n",
    "    x_new = np.c_[np.ones(m),x]\n",
    "    \n",
    "    #calculando y-chapeu    \n",
    "    y_hat = np.dot(x_new,theta)\n",
    "    \n",
    "    #Calculando o custo\n",
    "    J = (1/(2*m))*np.sum(np.square(y-np.ravel(y_hat)))\n",
    "    \n",
    "    return J"
   ]
  },
  {
   "cell_type": "code",
   "execution_count": 4,
   "metadata": {},
   "outputs": [],
   "source": [
    "x = y = [0,1,2,3,4]"
   ]
  },
  {
   "cell_type": "code",
   "execution_count": 5,
   "metadata": {},
   "outputs": [],
   "source": [
    "theta_certo = [[0],[1]]\n",
    "theta_errado = [[0],[2]]\n",
    "theta_viajando = [[2],[3]]"
   ]
  },
  {
   "cell_type": "code",
   "execution_count": 28,
   "metadata": {},
   "outputs": [
    {
     "data": {
      "text/plain": [
       "0.0"
      ]
     },
     "execution_count": 28,
     "metadata": {},
     "output_type": "execute_result"
    }
   ],
   "source": [
    "calcula_custo(theta_certo,x,y)"
   ]
  },
  {
   "cell_type": "code",
   "execution_count": 7,
   "metadata": {},
   "outputs": [
    {
     "data": {
      "text/plain": [
       "3.0"
      ]
     },
     "execution_count": 7,
     "metadata": {},
     "output_type": "execute_result"
    }
   ],
   "source": [
    "calcula_custo(theta_errado,x,y)"
   ]
  },
  {
   "cell_type": "code",
   "execution_count": 8,
   "metadata": {},
   "outputs": [
    {
     "data": {
      "text/plain": [
       "22.0"
      ]
     },
     "execution_count": 8,
     "metadata": {},
     "output_type": "execute_result"
    }
   ],
   "source": [
    "calcula_custo(theta_viajando,x,y)"
   ]
  },
  {
   "cell_type": "code",
   "execution_count": 9,
   "metadata": {},
   "outputs": [],
   "source": [
    "m = len(y)\n",
    "#Reta correta\n",
    "x_new = np.c_[np.ones(m),x]\n",
    "    \n",
    "#calculando y-chapeu    \n",
    "y_correto = np.dot(x_new,theta_certo)\n",
    "y_errado = np.dot(x_new,theta_errado)\n",
    "y_viajando = np.dot(x_new,theta_viajando)"
   ]
  },
  {
   "cell_type": "code",
   "execution_count": 10,
   "metadata": {},
   "outputs": [
    {
     "data": {
      "image/png": "[encoded data removed]",
      "text/plain": [
       "<Figure size 432x288 with 1 Axes>"
      ]
     },
     "metadata": {
      "needs_background": "light"
     },
     "output_type": "display_data"
    }
   ],
   "source": [
    "plt.scatter(x,y, label='Dado Original')\n",
    "plt.plot(x,y_correto, label='Pred. Correta')\n",
    "plt.plot(x,y_errado, label='Pred. Errada')\n",
    "plt.plot(x,y_viajando, label='Pred. Viajando')\n",
    "plt.legend()\n",
    "plt.show()"
   ]
  },
  {
   "cell_type": "markdown",
   "metadata": {},
   "source": [
    "# Função de otimização (Gradiente descendente)\n",
    "\n",
    "$\\theta_x:=\\theta_x-\\alpha\\frac{\\delta}{\\delta_{\\theta_x}}J(\\theta_X)$"
   ]
  },
  {
   "cell_type": "code",
   "execution_count": 32,
   "metadata": {},
   "outputs": [],
   "source": [
    "def gds(theta, X, y, alpha=0.1):\n",
    "    \n",
    "    #capturar o tamanho da amostra\n",
    "    m = len(y)\n",
    "    \n",
    "    #Criar Matriz X\n",
    "    X_new = np.c_[np.ones(m),X]\n",
    "    \n",
    "    #Predição baseado no theta atual\n",
    "    y_hat = np.dot(X_new, theta)\n",
    "    \n",
    "    #GDS\n",
    "    dt0 = sum(np.ravel(y_hat)-y)\n",
    "    dt1 = sum(np.multiply(np.ravel(y_hat)-y,X_new[:,1]))\n",
    "    \n",
    "    #Atualizando parametros\n",
    "    theta[0] = theta[0] - (alpha/m)*dt0\n",
    "    theta[1] = theta[1] - (alpha/m)*dt1\n",
    "    \n",
    "    return theta"
   ]
  },
  {
   "cell_type": "markdown",
   "metadata": {},
   "source": [
    "## Testando GDS"
   ]
  },
  {
   "cell_type": "code",
   "execution_count": 33,
   "metadata": {},
   "outputs": [],
   "source": [
    "x = y = [0,1,2,3,4]"
   ]
  },
  {
   "cell_type": "code",
   "execution_count": 41,
   "metadata": {},
   "outputs": [],
   "source": [
    "theta_certo = [[0],[1]]\n",
    "theta_errado = [[0],[2]]"
   ]
  },
  {
   "cell_type": "code",
   "execution_count": 35,
   "metadata": {},
   "outputs": [
    {
     "data": {
      "text/plain": [
       "[array([0.]), array([1.])]"
      ]
     },
     "execution_count": 35,
     "metadata": {},
     "output_type": "execute_result"
    }
   ],
   "source": [
    "#Theta Certo\n",
    "gds(theta_certo,x,y)"
   ]
  },
  {
   "cell_type": "code",
   "execution_count": 42,
   "metadata": {},
   "outputs": [
    {
     "data": {
      "text/plain": [
       "[array([-0.0002]), array([1.9994])]"
      ]
     },
     "execution_count": 42,
     "metadata": {},
     "output_type": "execute_result"
    }
   ],
   "source": [
    "#Theta errado\n",
    "gds(theta_errado,x,y,alpha=0.0001)"
   ]
  },
  {
   "cell_type": "markdown",
   "metadata": {},
   "source": [
    "# Regressão Linear"
   ]
  },
  {
   "cell_type": "code",
   "execution_count": 48,
   "metadata": {},
   "outputs": [],
   "source": [
    "import matplotlib.pyplot as plt\n",
    "import pylab as pl\n",
    "from IPython import display"
   ]
  },
  {
   "cell_type": "code",
   "execution_count": 74,
   "metadata": {},
   "outputs": [],
   "source": [
    "def plot_grafico(X, y, theta, J_hist, ax):\n",
    "    \n",
    "        ax[0].scatter(X,y,c='b')\n",
    "\n",
    "        #Calcular valor predito\n",
    "        y_pred = np.dot(X_new,theta)\n",
    "\n",
    "        #plota a predição do gráfico\n",
    "        ax[0].plot(X,y_pred,'r-')\n",
    "        ax[0].set_title('Dados reais vs Reta Calculada')\n",
    "\n",
    "        #Grafico de Custo\n",
    "        ax[1].plot([i for i in range(len(J_hist))],J_hist,'r-x')\n",
    "        ax[1].set_title('Custo da função vs Iterações')\n",
    "\n",
    "        #Atualizar o gráfico\n",
    "        display.clear_output(wait=True)\n",
    "        display.display(pl.gcf())"
   ]
  },
  {
   "cell_type": "code",
   "execution_count": 60,
   "metadata": {},
   "outputs": [],
   "source": [
    "def regressao_linear(X, y, theta, alpha=0.1, num_iters = 100):\n",
    "    \n",
    "    #tamanho da amostra\n",
    "    m = len(y)\n",
    "    J_hist = []\n",
    "    \n",
    "    #Matriz X\n",
    "    X_new = np.c_[np.ones(m),X]\n",
    "    \n",
    "    #Definindo regiões de gráfico\n",
    "    fig,ax = plt.subplots(1,2, figsize=(12,6))\n",
    "    \n",
    "    for iteracao in range(num_iters):\n",
    "        \n",
    "        #imprime a evolução do treinamento do modelo\n",
    "        if iteracao%10 == 0:\n",
    "            plot_grafico(X, y, theta, J_hist, ax)\n",
    "            \n",
    "        #Treinando o modelo \n",
    "        theta = gds(theta,X,y,alpha=alpha)\n",
    "        \n",
    "        #Historico de custo -> evolução do modelo\n",
    "        J_hist.append(calcula_custo(theta,X,y))\n",
    "    \n",
    "    plt.close()\n",
    "    return J_hist, theta"
   ]
  },
  {
   "cell_type": "markdown",
   "metadata": {},
   "source": [
    "## Teste com dado fake"
   ]
  },
  {
   "cell_type": "code",
   "execution_count": 50,
   "metadata": {},
   "outputs": [],
   "source": [
    "from sklearn.datasets import make_regression"
   ]
  },
  {
   "cell_type": "code",
   "execution_count": 51,
   "metadata": {},
   "outputs": [],
   "source": [
    "X_fake, y_fake = make_regression(n_features=1,n_samples=100, noise=20.0)"
   ]
  },
  {
   "cell_type": "code",
   "execution_count": 52,
   "metadata": {},
   "outputs": [
    {
     "data": {
      "text/plain": [
       "<matplotlib.collections.PathCollection at 0x24e7dea6ac8>"
      ]
     },
     "execution_count": 52,
     "metadata": {},
     "output_type": "execute_result"
    },
    {
     "data": {
      "image/png": "[encoded data removed]",
      "text/plain": [
       "<Figure size 432x288 with 1 Axes>"
      ]
     },
     "metadata": {
      "needs_background": "light"
     },
     "output_type": "display_data"
    }
   ],
   "source": [
    "plt.scatter(X_fake,y_fake)"
   ]
  },
  {
   "cell_type": "markdown",
   "metadata": {},
   "source": [
    "## Testar a regressão Linear"
   ]
  },
  {
   "cell_type": "code",
   "execution_count": 72,
   "metadata": {},
   "outputs": [],
   "source": [
    "theta_reg = [0,0]"
   ]
  },
  {
   "cell_type": "code",
   "execution_count": 73,
   "metadata": {},
   "outputs": [
    {
     "data": {
      "image/png": "[encoded data removed]",
      "text/plain": [
       "<Figure size 864x432 with 2 Axes>"
      ]
     },
     "metadata": {},
     "output_type": "display_data"
    }
   ],
   "source": [
    "_,theta_calculado = regressao_linear(X_fake, y_fake, theta_reg, alpha = 0.1, num_iters=500)"
   ]
  },
  {
   "cell_type": "code",
   "execution_count": 75,
   "metadata": {},
   "outputs": [
    {
     "data": {
      "text/plain": [
       "[0.2979681420249633, 44.18468908143824]"
      ]
     },
     "execution_count": 75,
     "metadata": {},
     "output_type": "execute_result"
    }
   ],
   "source": [
    "theta_calculado"
   ]
  },
  {
   "cell_type": "markdown",
   "metadata": {},
   "source": [
    "## Calculando o erro"
   ]
  },
  {
   "cell_type": "code",
   "execution_count": 88,
   "metadata": {},
   "outputs": [],
   "source": [
    "from sklearn.metrics import mean_squared_error as mse\n",
    "from sklearn.metrics import mean_absolute_error as mae"
   ]
  },
  {
   "cell_type": "code",
   "execution_count": 83,
   "metadata": {},
   "outputs": [],
   "source": [
    "m = len(y_fake)"
   ]
  },
  {
   "cell_type": "code",
   "execution_count": 84,
   "metadata": {},
   "outputs": [],
   "source": [
    "X_new = np.c_[np.ones(m),X_fake]"
   ]
  },
  {
   "cell_type": "code",
   "execution_count": 85,
   "metadata": {},
   "outputs": [],
   "source": [
    "y_pred = np.dot(X_new,theta_calculado)"
   ]
  },
  {
   "cell_type": "code",
   "execution_count": 87,
   "metadata": {},
   "outputs": [
    {
     "data": {
      "text/plain": [
       "376.84129519559656"
      ]
     },
     "execution_count": 87,
     "metadata": {},
     "output_type": "execute_result"
    }
   ],
   "source": [
    "mse(y_fake,y_pred)"
   ]
  },
  {
   "cell_type": "code",
   "execution_count": 89,
   "metadata": {},
   "outputs": [
    {
     "data": {
      "text/plain": [
       "15.231630252699503"
      ]
     },
     "execution_count": 89,
     "metadata": {},
     "output_type": "execute_result"
    }
   ],
   "source": [
    "mae(y_fake,y_pred)"
   ]
  },
  {
   "cell_type": "markdown",
   "metadata": {},
   "source": [
    "### Lição de casa\n",
    "Calcular o MAPE"
   ]
  },
  {
   "cell_type": "markdown",
   "metadata": {},
   "source": [
    "# Comparação com sklearn"
   ]
  },
  {
   "cell_type": "code",
   "execution_count": 76,
   "metadata": {},
   "outputs": [],
   "source": [
    "from sklearn.linear_model import LinearRegression"
   ]
  },
  {
   "cell_type": "code",
   "execution_count": 77,
   "metadata": {},
   "outputs": [],
   "source": [
    "reg = LinearRegression()"
   ]
  },
  {
   "cell_type": "code",
   "execution_count": 78,
   "metadata": {},
   "outputs": [
    {
     "data": {
      "text/plain": [
       "LinearRegression(copy_X=True, fit_intercept=True, n_jobs=None, normalize=False)"
      ]
     },
     "execution_count": 78,
     "metadata": {},
     "output_type": "execute_result"
    }
   ],
   "source": [
    "reg.fit(X_fake,y_fake)"
   ]
  },
  {
   "cell_type": "code",
   "execution_count": 79,
   "metadata": {},
   "outputs": [
    {
     "data": {
      "text/plain": [
       "0.29796814202496136"
      ]
     },
     "execution_count": 79,
     "metadata": {},
     "output_type": "execute_result"
    }
   ],
   "source": [
    "reg.intercept_"
   ]
  },
  {
   "cell_type": "code",
   "execution_count": 80,
   "metadata": {},
   "outputs": [
    {
     "data": {
      "text/plain": [
       "array([44.18468908])"
      ]
     },
     "execution_count": 80,
     "metadata": {},
     "output_type": "execute_result"
    }
   ],
   "source": [
    "reg.coef_"
   ]
  },
  {
   "cell_type": "code",
   "execution_count": 81,
   "metadata": {},
   "outputs": [
    {
     "data": {
      "text/plain": [
       "[0.2979681420249633, 44.18468908143824]"
      ]
     },
     "execution_count": 81,
     "metadata": {},
     "output_type": "execute_result"
    }
   ],
   "source": [
    "theta_calculado"
   ]
  },
  {
   "cell_type": "markdown",
   "metadata": {},
   "source": [
    "## Extra\n",
    " \n",
    "Adicionar a condição de parada baseado na atualização do J ( Se o valor do custo não mudar depois de um número de `paciencia` o treinamento encerra)"
   ]
  },
  {
   "cell_type": "markdown",
   "metadata": {},
   "source": [
    "regressao_linear(X, y, theta, alpha=0.1, num_iters = 100, paciencia = 5, min_update = 1.0e-4)"
   ]
  }
 ],
 "metadata": {
  "kernelspec": {
   "display_name": "Python 3",
   "language": "python",
   "name": "python3"
  },
  "language_info": {
   "codemirror_mode": {
    "name": "ipython",
    "version": 3
   },
   "file_extension": ".py",
   "mimetype": "text/x-python",
   "name": "python",
   "nbconvert_exporter": "python",
   "pygments_lexer": "ipython3",
   "version": "3.8.8"
  },
  "toc": {
   "base_numbering": 1,
   "nav_menu": {},
   "number_sections": true,
   "sideBar": true,
   "skip_h1_title": false,
   "title_cell": "Table of Contents",
   "title_sidebar": "Contents",
   "toc_cell": false,
   "toc_position": {},
   "toc_section_display": true,
   "toc_window_display": false
  }
 },
 "nbformat": 4,
 "nbformat_minor": 4
}
