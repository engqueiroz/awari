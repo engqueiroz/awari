{
 "cells": [
  {
   "cell_type": "code",
   "execution_count": 1,
   "id": "fe32e7eb",
   "metadata": {},
   "outputs": [],
   "source": [
    "import requests\n",
    "from bs4 import BeautifulSoup\n",
    "import re\n",
    "import numpy as np\n",
    "import pandas as pd\n",
    "from time import sleep\n",
    "import urllib.request\n"
   ]
  },
  {
   "cell_type": "code",
   "execution_count": 2,
   "id": "d048f875",
   "metadata": {},
   "outputs": [],
   "source": [
    "zonas = ['sul', 'norte', 'leste', 'oeste']\n",
    "paginas = []\n",
    "re_quarto ='\\| (.*) quarto'\n",
    "re_area = '> (.*) m²'\n"
   ]
  },
  {
   "cell_type": "code",
   "execution_count": 3,
   "id": "84a8f7ef",
   "metadata": {},
   "outputs": [],
   "source": [
    "def pega_url(zona):\n",
    "  zona = zona\n",
    "  pag = 200\n",
    "  paginas = []\n",
    "  numero = 1\n",
    "  lista_dfs = []\n",
    "  url_req = (\"https://imoveis.mercadolivre.com.br/casas/aluguel/sao-paulo/sao-paulo-zona-\"+ zona +\"/_Desde_\"+ str(numero))\n",
    "  while pag == 200:\n",
    "    try:\n",
    "      pag = urllib.request.urlopen(url_req).getcode()\n",
    "      paginas.append(url_req)\n",
    "      numero = numero + 48\n",
    "      url_req = (\"https://imoveis.mercadolivre.com.br/casas/aluguel/sao-paulo/sao-paulo-zona-\"+ zona +\"/_Desde_\"+ str(numero))\n",
    "      print(url_req)\n",
    "    except:\n",
    "      pag = 404\n",
    "  return paginas\n"
   ]
  },
  {
   "cell_type": "code",
   "execution_count": 4,
   "id": "5bbc5051",
   "metadata": {},
   "outputs": [],
   "source": [
    "def coleta_dados(url):\n",
    "    conteudo = requests.get(url).content\n",
    "    sopa = BeautifulSoup(conteudo)\n",
    "    \n",
    "    precos = sopa.find_all('span', class_='price__fraction')\n",
    "    areas_e_quartos = sopa.find_all('div', class_='item__attrs')\n",
    "    \n",
    "    lista_areas = []\n",
    "    lista_quartos = []\n",
    "    lista_precos = []\n",
    "    lista_zonas = []\n",
    "    \n",
    "    for padrao in precos:\n",
    "        preco = re.findall('<span class=\"price__fraction\">(.*)</span>', str(padrao))\n",
    "        lista_precos.append(preco[0].replace('.', ''))\n",
    "    \n",
    "    for elemento in areas_e_quartos:\n",
    "        quarto = re.findall(re_quarto, str(elemento))\n",
    "        area = re.findall(re_area, str(elemento))\n",
    "        \n",
    "        if quarto==[]:\n",
    "            quarto=np.nan\n",
    "        else:\n",
    "            quarto=quarto[0]\n",
    "        \n",
    "        if area==[]:\n",
    "            area=np.nan \n",
    "        else:\n",
    "            area=area[0]\n",
    "\n",
    "        lista_quartos.append(quarto)\n",
    "        lista_areas.append(area)\n",
    "        lista_zonas.append(zona)\n",
    "\n",
    "    dados = {'zona': lista_zonas,\n",
    "      'quartos': lista_quartos,\n",
    "      'area': lista_areas,\n",
    "      'preco': lista_precos}\n",
    "  \n",
    "    df = pd.DataFrame(dados)  \n",
    "    return df\n"
   ]
  },
  {
   "cell_type": "code",
   "execution_count": null,
   "id": "a5f7c5b8",
   "metadata": {},
   "outputs": [
    {
     "name": "stdout",
     "output_type": "stream",
     "text": [
      "https://imoveis.mercadolivre.com.br/casas/aluguel/sao-paulo/sao-paulo-zona-sul/_Desde_49\n",
      "https://imoveis.mercadolivre.com.br/casas/aluguel/sao-paulo/sao-paulo-zona-sul/_Desde_97\n",
      "https://imoveis.mercadolivre.com.br/casas/aluguel/sao-paulo/sao-paulo-zona-sul/_Desde_145\n"
     ]
    }
   ],
   "source": [
    "lista_dfs = []\n",
    "for zona in zonas:\n",
    "  urls = pega_url(zona)\n",
    "  for pagina in urls:\n",
    "    #url = url_ml.format(zona, pagina)\n",
    "    df = coleta_dados(pagina)\n",
    "    print('Carregando a url', pagina)\n",
    "    lista_dfs.append(df)\n",
    "    sleep(2)\n",
    "print('Dados coletados!')\n",
    "dados = pd.concat(lista_dfs)\n",
    "dados\n"
   ]
  },
  {
   "cell_type": "code",
   "execution_count": null,
   "id": "7ba562eb",
   "metadata": {},
   "outputs": [],
   "source": [
    "dados.to_csv('dados_mercadolivre_18082020.csv')\n"
   ]
  },
  {
   "cell_type": "code",
   "execution_count": null,
   "id": "eec834da",
   "metadata": {},
   "outputs": [],
   "source": []
  }
 ],
 "metadata": {
  "kernelspec": {
   "display_name": "Python 3",
   "language": "python",
   "name": "python3"
  },
  "language_info": {
   "codemirror_mode": {
    "name": "ipython",
    "version": 3
   },
   "file_extension": ".py",
   "mimetype": "text/x-python",
   "name": "python",
   "nbconvert_exporter": "python",
   "pygments_lexer": "ipython3",
   "version": "3.8.8"
  }
 },
 "nbformat": 4,
 "nbformat_minor": 5
}
