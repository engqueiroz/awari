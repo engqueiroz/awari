{
 "cells": [
  {
   "cell_type": "code",
   "execution_count": null,
   "id": "e8856e06",
   "metadata": {},
   "outputs": [],
   "source": [
    "\"Foto de uma mãe quando criança em Lefkada, Grécia, de 1963,\"\n",
    "\"Foto colorizada por redes neurais de uma mãe quando criança em Lefkada.\"\n",
    "\n",
    "toc: false\n",
    "branch: master\n",
    "badges: true\n",
    "comments: true\n",
    "Author: Wemerson Ferreira\n",
    "categories: [mae, familia, mulher]\n",
    "Declarando Variavel \"imagem\""
   ]
  },
  {
   "cell_type": "code",
   "execution_count": 2,
   "id": "75157fe9",
   "metadata": {},
   "outputs": [
    {
     "data": {
      "text/plain": [
       "'https://i.imgur.com/aj5qqAQ.jpg'"
      ]
     },
     "execution_count": 2,
     "metadata": {},
     "output_type": "execute_result"
    }
   ],
   "source": [
    "imagem = 'https://i.imgur.com/aj5qqAQ.jpg'\n",
    "\n",
    "imagem\n"
   ]
  },
  {
   "cell_type": "code",
   "execution_count": 5,
   "id": "56997700",
   "metadata": {},
   "outputs": [
    {
     "name": "stderr",
     "output_type": "stream",
     "text": [
      "'wget' nÆo ‚ reconhecido como um comando interno\n",
      "ou externo, um programa oper vel ou um arquivo em lotes.\n"
     ]
    }
   ],
   "source": [
    "!wget https://raw.githubusercontent.com/awarischool/br-data-science/master/image-colorizer/deoldify_wrapper.py\n"
   ]
  },
  {
   "cell_type": "code",
   "execution_count": 6,
   "id": "6d224915",
   "metadata": {},
   "outputs": [
    {
     "ename": "ModuleNotFoundError",
     "evalue": "No module named 'deoldify_wrapper'",
     "output_type": "error",
     "traceback": [
      "\u001b[1;31m---------------------------------------------------------------------------\u001b[0m",
      "\u001b[1;31mModuleNotFoundError\u001b[0m                       Traceback (most recent call last)",
      "\u001b[1;32m<ipython-input-6-e436e7f9a5fc>\u001b[0m in \u001b[0;36m<module>\u001b[1;34m\u001b[0m\n\u001b[1;32m----> 1\u001b[1;33m \u001b[1;32mfrom\u001b[0m \u001b[0mdeoldify_wrapper\u001b[0m \u001b[1;32mimport\u001b[0m \u001b[0mDeOldify\u001b[0m\u001b[1;33m\u001b[0m\u001b[1;33m\u001b[0m\u001b[0m\n\u001b[0m",
      "\u001b[1;31mModuleNotFoundError\u001b[0m: No module named 'deoldify_wrapper'"
     ]
    }
   ],
   "source": [
    "from deoldify_wrapper import DeOldify\n"
   ]
  },
  {
   "cell_type": "code",
   "execution_count": 7,
   "id": "9132bc2f",
   "metadata": {},
   "outputs": [
    {
     "ename": "NameError",
     "evalue": "name 'deo' is not defined",
     "output_type": "error",
     "traceback": [
      "\u001b[1;31m---------------------------------------------------------------------------\u001b[0m",
      "\u001b[1;31mNameError\u001b[0m                                 Traceback (most recent call last)",
      "\u001b[1;32m<ipython-input-7-ee258224f595>\u001b[0m in \u001b[0;36m<module>\u001b[1;34m\u001b[0m\n\u001b[1;32m----> 1\u001b[1;33m \u001b[0mdeo\u001b[0m\u001b[1;33m.\u001b[0m\u001b[0mcolorize\u001b[0m\u001b[1;33m(\u001b[0m\u001b[0mimagem\u001b[0m\u001b[1;33m)\u001b[0m\u001b[1;33m\u001b[0m\u001b[1;33m\u001b[0m\u001b[0m\n\u001b[0m",
      "\u001b[1;31mNameError\u001b[0m: name 'deo' is not defined"
     ]
    }
   ],
   "source": [
    "deo.colorize(imagem)\n"
   ]
  },
  {
   "cell_type": "code",
   "execution_count": null,
   "id": "4d541978",
   "metadata": {},
   "outputs": [],
   "source": []
  }
 ],
 "metadata": {
  "kernelspec": {
   "display_name": "Python 3",
   "language": "python",
   "name": "python3"
  },
  "language_info": {
   "codemirror_mode": {
    "name": "ipython",
    "version": 3
   },
   "file_extension": ".py",
   "mimetype": "text/x-python",
   "name": "python",
   "nbconvert_exporter": "python",
   "pygments_lexer": "ipython3",
   "version": "3.8.8"
  }
 },
 "nbformat": 4,
 "nbformat_minor": 5
}
