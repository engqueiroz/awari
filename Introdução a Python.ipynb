{
 "cells": [
  {
   "cell_type": "code",
   "execution_count": 8,
   "id": "83dc9ec8",
   "metadata": {},
   "outputs": [],
   "source": [
    "def funcao():\n",
    "    return 100"
   ]
  },
  {
   "cell_type": "code",
   "execution_count": 5,
   "id": "87a082d5",
   "metadata": {
    "scrolled": true
   },
   "outputs": [
    {
     "name": "stdout",
     "output_type": "stream",
     "text": [
      "Testando Python\n",
      "None\n"
     ]
    }
   ],
   "source": [
    "print(funcao())"
   ]
  },
  {
   "cell_type": "code",
   "execution_count": null,
   "id": "53316ef9",
   "metadata": {},
   "outputs": [],
   "source": []
  },
  {
   "cell_type": "code",
   "execution_count": 11,
   "id": "bd052c3e",
   "metadata": {},
   "outputs": [
    {
     "name": "stdout",
     "output_type": "stream",
     "text": [
      "nota da prova 100\n"
     ]
    }
   ],
   "source": [
    "print(\"nota da prova \" + str(funcao()))"
   ]
  },
  {
   "cell_type": "code",
   "execution_count": 13,
   "id": "1b0e9b1d",
   "metadata": {},
   "outputs": [
    {
     "ename": "TypeError",
     "evalue": "'int' object is not iterable",
     "output_type": "error",
     "traceback": [
      "\u001b[1;31m---------------------------------------------------------------------------\u001b[0m",
      "\u001b[1;31mTypeError\u001b[0m                                 Traceback (most recent call last)",
      "\u001b[1;32m<ipython-input-13-e03c3ae7dd4d>\u001b[0m in \u001b[0;36m<module>\u001b[1;34m\u001b[0m\n\u001b[0;32m      3\u001b[0m \u001b[0mvariavel_z\u001b[0m \u001b[1;33m=\u001b[0m \u001b[1;36m1.2\u001b[0m\u001b[1;33m\u001b[0m\u001b[1;33m\u001b[0m\u001b[0m\n\u001b[0;32m      4\u001b[0m \u001b[0mvariavel\u001b[0m \u001b[1;33m=\u001b[0m \u001b[1;36m0\u001b[0m\u001b[1;33m\u001b[0m\u001b[1;33m\u001b[0m\u001b[0m\n\u001b[1;32m----> 5\u001b[1;33m \u001b[1;32mfor\u001b[0m \u001b[0mi\u001b[0m \u001b[1;32min\u001b[0m \u001b[1;36m10\u001b[0m\u001b[1;33m:\u001b[0m\u001b[1;33m\u001b[0m\u001b[1;33m\u001b[0m\u001b[0m\n\u001b[0m\u001b[0;32m      6\u001b[0m     \u001b[1;31m#1 * 2\u001b[0m\u001b[1;33m\u001b[0m\u001b[1;33m\u001b[0m\u001b[1;33m\u001b[0m\u001b[0m\n\u001b[0;32m      7\u001b[0m     \u001b[1;36m1\u001b[0m \u001b[1;33m*\u001b[0m \u001b[0mvariavel\u001b[0m\u001b[1;33m\u001b[0m\u001b[1;33m\u001b[0m\u001b[0m\n",
      "\u001b[1;31mTypeError\u001b[0m: 'int' object is not iterable"
     ]
    }
   ],
   "source": [
    "\n",
    "variavel_x = 100\n",
    "variavel_y = \"Texto\"\n",
    "variavel_z = 1.2\n",
    "variavel = 0 \n",
    "\n",
    "for i in 10:\n",
    "    #1 * 2\n",
    "    1 * variavel \n",
    "    \n",
    "    variavel = variavel + 1\n",
    "\n",
    "\n",
    "print(variavel_x * variavel_z)"
   ]
  },
  {
   "cell_type": "code",
   "execution_count": 17,
   "id": "b30b3dfa",
   "metadata": {},
   "outputs": [
    {
     "name": "stdout",
     "output_type": "stream",
     "text": [
      "<class 'float'>\n"
     ]
    }
   ],
   "source": [
    "variavel_x = 100\n",
    "variavel_y = \"Texto\"\n",
    "variavel_z = 1.2\n",
    "variavel = 0 \n",
    "variavel_c = variavel_x * variavel_z #identificar o tipo de dado\n",
    "\n",
    "print(type(variavel_z))"
   ]
  },
  {
   "cell_type": "code",
   "execution_count": null,
   "id": "71b85686",
   "metadata": {},
   "outputs": [],
   "source": [
    "\"\"\"\n",
    "Comentario composto\n",
    "\n",
    "fahnfamfvah\n",
    "\"\"\"\n",
    "\n",
    "# comentario simples"
   ]
  },
  {
   "cell_type": "code",
   "execution_count": 20,
   "id": "83077bb3",
   "metadata": {},
   "outputs": [
    {
     "name": "stdout",
     "output_type": "stream",
     "text": [
      "3\n",
      "-1\n",
      "2\n",
      "0.5\n",
      "1\n",
      "2\n",
      "8\n"
     ]
    }
   ],
   "source": [
    "print(1+2) #adicao\n",
    "print(1-2) #subtracao\n",
    "print(1*2) #multiplicacao\n",
    "print(1/2) #divisao\n",
    "print(6//4) # parte interna da divisao\n",
    "print(6%4) #resto da divisao\n",
    "print(2**3) #potencia\n"
   ]
  },
  {
   "cell_type": "code",
   "execution_count": 26,
   "id": "2ebbeae3",
   "metadata": {},
   "outputs": [
    {
     "name": "stdout",
     "output_type": "stream",
     "text": [
      "20\n",
      "40\n",
      "20\n",
      "10\n",
      "20\n",
      "80\n",
      "20\n",
      "2.0\n"
     ]
    }
   ],
   "source": [
    "#Funções de atribuição\n",
    "\n",
    "x = 10\n",
    "y = 20\n",
    "\n",
    "igual = x\n",
    "\n",
    "adicao = y\n",
    "print(adicao)\n",
    "\n",
    "adicao += y # adicao = adicao + y\n",
    "print(adicao)\n",
    "\n",
    "sub = y\n",
    "print(sub)\n",
    "\n",
    "sub -= x\n",
    "print(sub)\n",
    "\n",
    "pot = y\n",
    "print(pot)\n",
    "\n",
    "pot *= 4\n",
    "print(pot)\n",
    "\n",
    "div = y\n",
    "print(div)\n",
    "\n",
    "div /= x\n",
    "print(div)\n",
    "\n",
    "# **= potencia\n",
    "# //= parte inteira divisao \n",
    "# %= resto da divisao"
   ]
  },
  {
   "cell_type": "code",
   "execution_count": 29,
   "id": "3618b239",
   "metadata": {},
   "outputs": [],
   "source": [
    "x = 3\n",
    "y = 2\n",
    "\n",
    "# if (condicional):\n",
    "    #ident ação\n",
    "if y>x :\n",
    "    print( \"y maior do que x\")\n",
    "#else if \n",
    "elif x>y & x>10:\n",
    "    print( \"x maior do que y e x>10\") \n",
    "else: \n",
    "    print(\"X maior do q y e x<=10\")\n",
    "\n",
    "\"\"\"\n",
    "    case \n",
    "   if when x then y \n",
    "   elif  when x > 10 & x> y then x\n",
    "   else else z\n",
    "    end\n",
    "    \"\"\""
   ]
  },
  {
   "cell_type": "code",
   "execution_count": 30,
   "id": "1ce42783",
   "metadata": {},
   "outputs": [
    {
     "name": "stdout",
     "output_type": "stream",
     "text": [
      "0\n",
      "1\n",
      "2\n",
      "3\n",
      "4\n",
      "5\n",
      "6\n",
      "7\n",
      "8\n",
      "9\n"
     ]
    }
   ],
   "source": [
    "x = 0\n",
    "y = 10\n",
    "\n",
    "while x < y:\n",
    "    print(x)\n",
    "    x +=1 "
   ]
  },
  {
   "cell_type": "code",
   "execution_count": 34,
   "id": "2d9244dc",
   "metadata": {},
   "outputs": [
    {
     "name": "stdout",
     "output_type": "stream",
     "text": [
      "posicao 0 valor 0\n",
      "posicao 1 valor 2\n",
      "posicao 2 valor 4\n",
      "posicao 3 valor 6\n",
      "posicao 4 valor 8\n",
      "posicao 5 valor 10\n",
      "posicao 6 valor 12\n",
      "posicao 7 valor 14\n",
      "posicao 8 valor 16\n",
      "posicao 9 valor 18\n"
     ]
    }
   ],
   "source": [
    "x = 0\n",
    "\n",
    "# for define o numero de execuções de i ate valor depois do in\n",
    "for i in range(10):\n",
    "    print(\"posicao \" + str(i) + \" valor \" + str(x))\n",
    "\n",
    "    x +=2\n",
    "    \n",
    "    \n",
    "    "
   ]
  },
  {
   "cell_type": "code",
   "execution_count": 40,
   "id": "b42a0402",
   "metadata": {},
   "outputs": [
    {
     "name": "stdout",
     "output_type": "stream",
     "text": [
      "and\n",
      "or\n"
     ]
    }
   ],
   "source": [
    "#Operadores de comparação\n",
    "\n",
    "y = 10\n",
    "x = y\n",
    "z = 5\n",
    "\n",
    "if (x == y and x != z) or 1=1:\n",
    "    print(\"and\")\n",
    "\n",
    "    \n",
    "if x != z or x==y:\n",
    "    print(\"or\")\n",
    "\n",
    "    "
   ]
  },
  {
   "cell_type": "code",
   "execution_count": 52,
   "id": "59879761",
   "metadata": {
    "scrolled": true
   },
   "outputs": [
    {
     "ename": "TypeError",
     "evalue": "can only concatenate str (not \"int\") to str",
     "output_type": "error",
     "traceback": [
      "\u001b[1;31m---------------------------------------------------------------------------\u001b[0m",
      "\u001b[1;31mTypeError\u001b[0m                                 Traceback (most recent call last)",
      "\u001b[1;32m<ipython-input-52-f7da3b6516ee>\u001b[0m in \u001b[0;36m<module>\u001b[1;34m\u001b[0m\n\u001b[0;32m      3\u001b[0m \u001b[1;33m\u001b[0m\u001b[0m\n\u001b[0;32m      4\u001b[0m \u001b[1;33m\u001b[0m\u001b[0m\n\u001b[1;32m----> 5\u001b[1;33m \u001b[0msoma\u001b[0m\u001b[1;33m(\u001b[0m\u001b[1;34m\"Teste\"\u001b[0m\u001b[1;33m,\u001b[0m\u001b[1;36m2\u001b[0m\u001b[1;33m)\u001b[0m\u001b[1;33m\u001b[0m\u001b[1;33m\u001b[0m\u001b[0m\n\u001b[0m\u001b[0;32m      6\u001b[0m \u001b[1;33m\u001b[0m\u001b[0m\n\u001b[0;32m      7\u001b[0m \u001b[1;32mdef\u001b[0m \u001b[0mdiv_padrao\u001b[0m \u001b[1;33m(\u001b[0m\u001b[0mx\u001b[0m\u001b[1;33m,\u001b[0m \u001b[0my\u001b[0m \u001b[1;33m=\u001b[0m\u001b[1;36m2\u001b[0m\u001b[1;33m)\u001b[0m\u001b[1;33m:\u001b[0m\u001b[1;33m\u001b[0m\u001b[1;33m\u001b[0m\u001b[0m\n",
      "\u001b[1;32m<ipython-input-52-f7da3b6516ee>\u001b[0m in \u001b[0;36msoma\u001b[1;34m(x, y)\u001b[0m\n\u001b[0;32m      1\u001b[0m \u001b[1;32mdef\u001b[0m \u001b[0msoma\u001b[0m\u001b[1;33m(\u001b[0m\u001b[0mx\u001b[0m\u001b[1;33m:\u001b[0m \u001b[0mint\u001b[0m \u001b[1;33m,\u001b[0m\u001b[0my\u001b[0m\u001b[1;33m)\u001b[0m\u001b[1;33m:\u001b[0m\u001b[1;33m\u001b[0m\u001b[1;33m\u001b[0m\u001b[0m\n\u001b[1;32m----> 2\u001b[1;33m     \u001b[0mprint\u001b[0m\u001b[1;33m(\u001b[0m\u001b[0mx\u001b[0m\u001b[1;33m+\u001b[0m\u001b[0my\u001b[0m\u001b[1;33m)\u001b[0m\u001b[1;33m\u001b[0m\u001b[1;33m\u001b[0m\u001b[0m\n\u001b[0m\u001b[0;32m      3\u001b[0m \u001b[1;33m\u001b[0m\u001b[0m\n\u001b[0;32m      4\u001b[0m \u001b[1;33m\u001b[0m\u001b[0m\n\u001b[0;32m      5\u001b[0m \u001b[0msoma\u001b[0m\u001b[1;33m(\u001b[0m\u001b[1;34m\"Teste\"\u001b[0m\u001b[1;33m,\u001b[0m\u001b[1;36m2\u001b[0m\u001b[1;33m)\u001b[0m\u001b[1;33m\u001b[0m\u001b[1;33m\u001b[0m\u001b[0m\n",
      "\u001b[1;31mTypeError\u001b[0m: can only concatenate str (not \"int\") to str"
     ]
    }
   ],
   "source": [
    "def soma(x ,y):\n",
    "    \"\"\"Essa função faz o somatorio de x + y\"\"\"\n",
    "    print(x+y)\n",
    "    \n",
    "    \n",
    "soma(2,2)\n",
    "\n",
    "def div_padrao (x, y =2):\n",
    "    print(x/y)\n",
    "    \n",
    "div_padrao(2)\n",
    "\n",
    "\n",
    "def soma_return(x,y):\n",
    "   \n",
    "    return x+y\n",
    "    \n",
    "    \n",
    "retorno = soma_return(2,2)\n",
    "\n",
    "print(retorno)\n"
   ]
  },
  {
   "cell_type": "code",
   "execution_count": 57,
   "id": "b0c3aab9",
   "metadata": {},
   "outputs": [
    {
     "name": "stdout",
     "output_type": "stream",
     "text": [
      "[1, 1.2, 'Teste', [4, 5, 'A']]\n",
      "[1, 1.2, 'Teste', [4, 5, 'A'], 100]\n",
      "[1, 1.2, 'Teste', [4, 5, 'A']]\n",
      "Teste\n",
      "[1.2, 'Teste', [4, 5, 'A']]\n"
     ]
    }
   ],
   "source": [
    "list = [1, 1.2, \"Teste\", [4,5,\"A\"]]\n",
    "\n",
    "print(list)\n",
    "\n",
    "#adicionar um valor \n",
    "list.append(100)\n",
    "print (list)\n",
    "\n",
    "list.pop()\n",
    "print (list)\n",
    "\n",
    "\n",
    "#printar valor de posicao especifica\n",
    "print(list[2])\n",
    "\n",
    "#printar varios valores\n",
    "print(list[1:4])"
   ]
  },
  {
   "cell_type": "code",
   "execution_count": 61,
   "id": "bff1fd41",
   "metadata": {},
   "outputs": [
    {
     "name": "stdout",
     "output_type": "stream",
     "text": [
      "(1, 1.2, 'Teste', [4, 5, 'A'])\n"
     ]
    },
    {
     "ename": "AttributeError",
     "evalue": "'tuple' object has no attribute 'pop'",
     "output_type": "error",
     "traceback": [
      "\u001b[1;31m---------------------------------------------------------------------------\u001b[0m",
      "\u001b[1;31mAttributeError\u001b[0m                            Traceback (most recent call last)",
      "\u001b[1;32m<ipython-input-61-6b224de6d778>\u001b[0m in \u001b[0;36m<module>\u001b[1;34m\u001b[0m\n\u001b[0;32m      4\u001b[0m \u001b[1;33m\u001b[0m\u001b[0m\n\u001b[0;32m      5\u001b[0m \u001b[1;31m#tupla.append(100)\u001b[0m\u001b[1;33m\u001b[0m\u001b[1;33m\u001b[0m\u001b[1;33m\u001b[0m\u001b[0m\n\u001b[1;32m----> 6\u001b[1;33m \u001b[0mtupla\u001b[0m\u001b[1;33m.\u001b[0m\u001b[0mpop\u001b[0m\u001b[1;33m(\u001b[0m\u001b[1;33m)\u001b[0m\u001b[1;33m\u001b[0m\u001b[1;33m\u001b[0m\u001b[0m\n\u001b[0m",
      "\u001b[1;31mAttributeError\u001b[0m: 'tuple' object has no attribute 'pop'"
     ]
    }
   ],
   "source": [
    "tupla = 1, 1.2, \"Teste\", [4,5,\"A\"]\n",
    "\n",
    "print (tupla)\n",
    "\n",
    "#nao conseguimos alterar uma tupla\n",
    "tupla.append(100)\n",
    "tupla.pop()"
   ]
  },
  {
   "cell_type": "code",
   "execution_count": 65,
   "id": "c5f06586",
   "metadata": {
    "scrolled": true
   },
   "outputs": [
    {
     "name": "stdout",
     "output_type": "stream",
     "text": [
      "{1, 2, 3}\n",
      "{1, 2, 3}\n",
      "{1, 2, 3, 4}\n"
     ]
    }
   ],
   "source": [
    "set = {1,2,3}\n",
    "\n",
    "print (set)\n",
    "\n",
    "set.add(3)\n",
    "print(set)\n",
    "\n",
    "set.add(4)\n",
    "print(set)"
   ]
  },
  {
   "cell_type": "code",
   "execution_count": 69,
   "id": "40e4fd22",
   "metadata": {},
   "outputs": [
    {
     "name": "stdout",
     "output_type": "stream",
     "text": [
      "{'aluno 1': 'Joao', 'aluno 2': 'Bosco'}\n",
      "Joao\n",
      "Mesquita\n"
     ]
    }
   ],
   "source": [
    "dic = {\"aluno 1\": \"Joao\", \"aluno 2\": \"Bosco\"}\n",
    "\n",
    "print(dic)\n",
    "\n",
    "print(dic['aluno 1'])\n",
    "\n",
    "dic['aluno 2'] = \"Mesquita\"\n",
    "print(dic['aluno 2'])"
   ]
  }
 ],
 "metadata": {
  "kernelspec": {
   "display_name": "Python 3",
   "language": "python",
   "name": "python3"
  },
  "language_info": {
   "codemirror_mode": {
    "name": "ipython",
    "version": 3
   },
   "file_extension": ".py",
   "mimetype": "text/x-python",
   "name": "python",
   "nbconvert_exporter": "python",
   "pygments_lexer": "ipython3",
   "version": "3.8.8"
  }
 },
 "nbformat": 4,
 "nbformat_minor": 5
}
